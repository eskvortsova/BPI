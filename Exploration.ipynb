{
 "cells": [
  {
   "cell_type": "code",
   "execution_count": 1,
   "metadata": {
    "scrolled": true
   },
   "outputs": [],
   "source": [
    "import pandas as pd\n",
    "import os\n",
    "import datetime\n",
    "from pm4py.objects.conversion.log.versions import to_dataframe\n",
    "import warnings\n",
    "warnings.filterwarnings('ignore')\n",
    "from pm4py.objects.log.importer import xes\n",
    "from pm4py.objects.log.importer.xes import importer as xes_importer\n",
    "import pytz"
   ]
  },
  {
   "cell_type": "code",
   "execution_count": 2,
   "metadata": {},
   "outputs": [
    {
     "name": "stdout",
     "output_type": "stream",
     "text": [
      "['C:\\\\PM contest\\\\Common challenge\\\\DomesticDeclarations.xes_\\\\DomesticDeclarations.xes', 'C:\\\\PM contest\\\\Common challenge\\\\InternationalDeclarations.xes_\\\\InternationalDeclarations.xes', 'C:\\\\PM contest\\\\Common challenge\\\\PermitLog.xes_\\\\PermitLog.xes', 'C:\\\\PM contest\\\\Common challenge\\\\PrepaidTravelCost.xes_\\\\PrepaidTravelCost.xes', 'C:\\\\PM contest\\\\Common challenge\\\\RequestForPayment.xes_\\\\RequestForPayment.xes']\n"
     ]
    }
   ],
   "source": [
    "wd = os.getcwd()\n",
    "\"\"\"\n",
    "get all filenames in working directory\n",
    "then collect log containing folders\n",
    "get log files paths and collect logs\n",
    "\n",
    "\"\"\"\n",
    "logs_paths = []\n",
    "for file in os.listdir(wd):\n",
    "    if file.endswith(\".xes_\"):\n",
    "        for f in os.listdir(file):\n",
    "            if f.endswith(\".xes\"):\n",
    "                logs_paths.append(os.path.join(wd+'\\\\'+file, f))\n",
    "print(logs_paths)"
   ]
  },
  {
   "cell_type": "markdown",
   "metadata": {},
   "source": [
    "### Таблицы"
   ]
  },
  {
   "cell_type": "code",
   "execution_count": 3,
   "metadata": {},
   "outputs": [
    {
     "data": {
      "application/vnd.jupyter.widget-view+json": {
       "model_id": "d6e69842cb874af981d59dc129c19b02",
       "version_major": 2,
       "version_minor": 0
      },
      "text/plain": [
       "HBox(children=(FloatProgress(value=0.0, description='parsing log, completed traces :: ', max=10500.0, style=Pr…"
      ]
     },
     "metadata": {},
     "output_type": "display_data"
    },
    {
     "name": "stdout",
     "output_type": "stream",
     "text": [
      "\n"
     ]
    }
   ],
   "source": [
    "domestic_declarations = xes_importer.apply(wd + '\\DomesticDeclarations.xes_\\DomesticDeclarations.xes')"
   ]
  },
  {
   "cell_type": "code",
   "execution_count": 4,
   "metadata": {},
   "outputs": [
    {
     "data": {
      "application/vnd.jupyter.widget-view+json": {
       "model_id": "a4ebfd7e1cf54bdf80607c04cc208326",
       "version_major": 2,
       "version_minor": 0
      },
      "text/plain": [
       "HBox(children=(FloatProgress(value=0.0, description='parsing log, completed traces :: ', max=6449.0, style=Pro…"
      ]
     },
     "metadata": {},
     "output_type": "display_data"
    },
    {
     "name": "stdout",
     "output_type": "stream",
     "text": [
      "\n"
     ]
    }
   ],
   "source": [
    "int_declarations = xes_importer.apply(wd + '\\InternationalDeclarations.xes_\\InternationalDeclarations.xes')"
   ]
  },
  {
   "cell_type": "code",
   "execution_count": 5,
   "metadata": {},
   "outputs": [
    {
     "data": {
      "application/vnd.jupyter.widget-view+json": {
       "model_id": "a8b78484178e44499382ca319d7bd55d",
       "version_major": 2,
       "version_minor": 0
      },
      "text/plain": [
       "HBox(children=(FloatProgress(value=0.0, description='parsing log, completed traces :: ', max=7065.0, style=Pro…"
      ]
     },
     "metadata": {},
     "output_type": "display_data"
    },
    {
     "name": "stdout",
     "output_type": "stream",
     "text": [
      "\n"
     ]
    }
   ],
   "source": [
    "permit_log = xes_importer.apply(wd + '\\PermitLog.xes_\\PermitLog.xes')"
   ]
  },
  {
   "cell_type": "code",
   "execution_count": 6,
   "metadata": {},
   "outputs": [
    {
     "data": {
      "application/vnd.jupyter.widget-view+json": {
       "model_id": "e68f3b9a8b124292b82256de2b7ee7ab",
       "version_major": 2,
       "version_minor": 0
      },
      "text/plain": [
       "HBox(children=(FloatProgress(value=0.0, description='parsing log, completed traces :: ', max=2099.0, style=Pro…"
      ]
     },
     "metadata": {},
     "output_type": "display_data"
    },
    {
     "name": "stdout",
     "output_type": "stream",
     "text": [
      "\n"
     ]
    }
   ],
   "source": [
    "prepaid_travel_cost = xes_importer.apply(wd + '\\PrepaidTravelCost.xes_\\PrepaidTravelCost.xes')"
   ]
  },
  {
   "cell_type": "code",
   "execution_count": 7,
   "metadata": {},
   "outputs": [
    {
     "data": {
      "application/vnd.jupyter.widget-view+json": {
       "model_id": "2a96831664e6485f910c6a2b74745014",
       "version_major": 2,
       "version_minor": 0
      },
      "text/plain": [
       "HBox(children=(FloatProgress(value=0.0, description='parsing log, completed traces :: ', max=6886.0, style=Pro…"
      ]
     },
     "metadata": {},
     "output_type": "display_data"
    },
    {
     "name": "stdout",
     "output_type": "stream",
     "text": [
      "\n"
     ]
    }
   ],
   "source": [
    "request_for_payment = xes_importer.apply(wd + '\\RequestForPayment.xes_\\RequestForPayment.xes')"
   ]
  },
  {
   "cell_type": "code",
   "execution_count": 9,
   "metadata": {},
   "outputs": [],
   "source": [
    "permit_log = pd.read_csv('C://PM contest//Common challenge//PermitLog.xes_//compact_PermitLog.csv')\n",
    "permit_log['time:timestamp']=permit_log['time:timestamp'].map(lambda x: datetime.datetime.fromisoformat(x))"
   ]
  },
  {
   "cell_type": "code",
   "execution_count": null,
   "metadata": {},
   "outputs": [],
   "source": [
    "dfs_list = [\n",
    "    domestic_declarations,int_declarations,permit_log,prepaid_travel_cost,request_for_payment\n",
    "]"
   ]
  },
  {
   "cell_type": "code",
   "execution_count": 8,
   "metadata": {},
   "outputs": [],
   "source": [
    "for dataframe in dfs_list:\n",
    "    dataframe = to_dataframe(dataframe)"
   ]
  },
  {
   "cell_type": "markdown",
   "metadata": {},
   "source": [
    "### Timestamp with timezone --> timestamp unified"
   ]
  },
  {
   "cell_type": "code",
   "execution_count": 10,
   "metadata": {},
   "outputs": [],
   "source": [
    "\"\"\"\n",
    "converts to UTC-format for unified timestamp format\n",
    ":param: df - selected table\n",
    ":param: time_column - column with the following time format %Y-%m-%d HH:MM:SS+0X:00\n",
    ":return: converted to UTC-format timestmp without timezone\n",
    "\"\"\"\n",
    "\n",
    "def to_utc(df, time_column):\n",
    "    utc = pytz.timezone('UTC')\n",
    "    df[time_column] = df[time_column].map(lambda x: x.astimezone(utc).replace(tzinfo=None))"
   ]
  },
  {
   "cell_type": "code",
   "execution_count": 12,
   "metadata": {},
   "outputs": [],
   "source": [
    "for dataframe in dfs_list:\n",
    "    dataframe = to_utc(dataframe, 'time:timestamp')"
   ]
  },
  {
   "cell_type": "markdown",
   "metadata": {},
   "source": [
    "# Questions"
   ]
  },
  {
   "cell_type": "markdown",
   "metadata": {},
   "source": [
    "### 1. What is the throughput of a travel declaration from submission (or closing) to paying?"
   ]
  },
  {
   "cell_type": "markdown",
   "metadata": {},
   "source": [
    "#### Preprocessing part"
   ]
  },
  {
   "cell_type": "code",
   "execution_count": 13,
   "metadata": {},
   "outputs": [],
   "source": [
    "os.environ[\"PATH\"] += os.pathsep + 'C:/Program Files (x86)/Graphviz2.38/bin/'"
   ]
  },
  {
   "cell_type": "code",
   "execution_count": 47,
   "metadata": {},
   "outputs": [],
   "source": [
    "\"\"\" \n",
    "time delta between events for each event type its first mention is used\n",
    ":param: df - selected table\n",
    ":param: id_column - column where case id is stored\n",
    ":param: concept_column - column where case name is stored\n",
    ":param: eventlist - list where selected events are stored \n",
    ":param: time_column - column where timestamp in the format is stored timestamp(%Y-%m-%d HH:MM:SS)\n",
    ":return: table with description statistics, \n",
    "         table with initial data: declaration ids, timedelta, timedelta in hours\n",
    "\"\"\"\n",
    "\n",
    "def events_time_delta(df, id_column, concept_column, eventlist, time_column):\n",
    "    df=df.sort_values([id_column, time_column],ascending = True)\n",
    "    throughoutput = df[df[concept_column].isin(set(eventlist))]\n",
    "    throughoutput = throughoutput.drop_duplicates(subset = [id_column, concept_column], keep = 'first')\n",
    "    tmp = pd.DataFrame(throughoutput.groupby([id_column]).apply(lambda x: list(x[time_column])))\n",
    "    tmp = tmp.reset_index()\n",
    "    tmp.columns = [id_column, 'timing']\n",
    "    tmp['length'] = tmp['timing'].map(lambda x: len(x))\n",
    "    tmp['throughoutput'] = None\n",
    "    # the function does not count timedelta for events that are not finished\n",
    "    tmp_selected = tmp[tmp['length']==2]\n",
    "    tmp_selected['throughoutput'] = tmp_selected['timing'].map(lambda x: x[1]-x[0])\n",
    "    tmp_selected['throughoutput_hours']=tmp_selected['throughoutput'].map(lambda x: x.total_seconds()/3600)\n",
    "    tmp_selected = tmp_selected.drop(['length', 'timing'], axis =1)\n",
    "    return pd.DataFrame(tmp_selected['throughoutput_hours'].describe()), tmp_selected"
   ]
  },
  {
   "cell_type": "markdown",
   "metadata": {},
   "source": [
    "#### Exploration part (in dev)"
   ]
  },
  {
   "cell_type": "code",
   "execution_count": 60,
   "metadata": {},
   "outputs": [],
   "source": [
    "t1, t2 = events_time_delta(int_declarations,\n",
    "                          id_column='case:id',\n",
    "                          concept_column='concept:name',\n",
    "                          eventlist = ['Declaration SUBMITTED by EMPLOYEE','Payment Handled'],\n",
    "                          time_column = 'time:timestamp')"
   ]
  },
  {
   "cell_type": "code",
   "execution_count": 61,
   "metadata": {},
   "outputs": [
    {
     "data": {
      "text/html": [
       "<div>\n",
       "<style scoped>\n",
       "    .dataframe tbody tr th:only-of-type {\n",
       "        vertical-align: middle;\n",
       "    }\n",
       "\n",
       "    .dataframe tbody tr th {\n",
       "        vertical-align: top;\n",
       "    }\n",
       "\n",
       "    .dataframe thead th {\n",
       "        text-align: right;\n",
       "    }\n",
       "</style>\n",
       "<table border=\"1\" class=\"dataframe\">\n",
       "  <thead>\n",
       "    <tr style=\"text-align: right;\">\n",
       "      <th></th>\n",
       "      <th>throughoutput_hours</th>\n",
       "    </tr>\n",
       "  </thead>\n",
       "  <tbody>\n",
       "    <tr>\n",
       "      <th>count</th>\n",
       "      <td>6187.000000</td>\n",
       "    </tr>\n",
       "    <tr>\n",
       "      <th>mean</th>\n",
       "      <td>350.597599</td>\n",
       "    </tr>\n",
       "    <tr>\n",
       "      <th>std</th>\n",
       "      <td>416.555390</td>\n",
       "    </tr>\n",
       "    <tr>\n",
       "      <th>min</th>\n",
       "      <td>26.096389</td>\n",
       "    </tr>\n",
       "    <tr>\n",
       "      <th>25%</th>\n",
       "      <td>156.879028</td>\n",
       "    </tr>\n",
       "    <tr>\n",
       "      <th>50%</th>\n",
       "      <td>245.887222</td>\n",
       "    </tr>\n",
       "    <tr>\n",
       "      <th>75%</th>\n",
       "      <td>407.536528</td>\n",
       "    </tr>\n",
       "    <tr>\n",
       "      <th>max</th>\n",
       "      <td>10298.707778</td>\n",
       "    </tr>\n",
       "  </tbody>\n",
       "</table>\n",
       "</div>"
      ],
      "text/plain": [
       "       throughoutput_hours\n",
       "count          6187.000000\n",
       "mean            350.597599\n",
       "std             416.555390\n",
       "min              26.096389\n",
       "25%             156.879028\n",
       "50%             245.887222\n",
       "75%             407.536528\n",
       "max           10298.707778"
      ]
     },
     "execution_count": 61,
     "metadata": {},
     "output_type": "execute_result"
    }
   ],
   "source": [
    "t1"
   ]
  },
  {
   "cell_type": "code",
   "execution_count": null,
   "metadata": {},
   "outputs": [],
   "source": [
    "int_declarations['year'] = int_declarations['time:timestamp'].map(lambda x: x.year)\n",
    "domestic_declarations['year'] = domestic_declarations['time:timestamp'].map(lambda x: x.year)"
   ]
  },
  {
   "cell_type": "code",
   "execution_count": null,
   "metadata": {},
   "outputs": [],
   "source": [
    "dd_18 = domestic_declarations[domestic_declarations['year']==2018]\n",
    "int_18 = int_declarations[int_declarations['year']==2018]"
   ]
  },
  {
   "cell_type": "code",
   "execution_count": null,
   "metadata": {},
   "outputs": [],
   "source": [
    "desc_table_dom, time_dom = throughput(dd_18, ['Declaration SUBMITTED by EMPLOYEE','Payment Handled'])"
   ]
  },
  {
   "cell_type": "code",
   "execution_count": null,
   "metadata": {},
   "outputs": [],
   "source": [
    "desc_table_int, time_int = throughput(int_18, ['Declaration SUBMITTED by EMPLOYEE','Payment Handled'])"
   ]
  },
  {
   "cell_type": "code",
   "execution_count": null,
   "metadata": {},
   "outputs": [],
   "source": [
    "time_int['label'] = 'international'\n",
    "time_dom['label'] = 'domestic'\n",
    "time_gen = pd.concat([time_int, time_dom])"
   ]
  },
  {
   "cell_type": "code",
   "execution_count": null,
   "metadata": {},
   "outputs": [],
   "source": [
    "from math import log\n",
    "time_int['log_time'] = time_int['throughoutput_hours'].map(lambda x: log(x))\n",
    "time_dom['log_time'] = time_dom['throughoutput_hours'].map(lambda x: log(x))"
   ]
  },
  {
   "cell_type": "code",
   "execution_count": null,
   "metadata": {},
   "outputs": [],
   "source": [
    "import plotly.figure_factory as ff\n",
    "import numpy as np"
   ]
  },
  {
   "cell_type": "code",
   "execution_count": null,
   "metadata": {},
   "outputs": [],
   "source": [
    "# данные для гистограм\n",
    "x1 = time_int['throughoutput_hours'].to_list()\n",
    "x2 = time_dom['throughoutput_hours'].to_list()\n",
    "hist_data = [x1, x2]\n",
    "\n",
    "# метки групп\n",
    "group_labels = ['internatinal', 'domestic']\n",
    "\n",
    "# кастомизация размера бинов\n",
    "fig = ff.create_distplot(hist_data, group_labels, bin_size=.2)\n",
    "\n",
    "\n",
    "#fig.show() у меня закомментировано, подыхает оперативка :)"
   ]
  },
  {
   "cell_type": "code",
   "execution_count": null,
   "metadata": {},
   "outputs": [],
   "source": [
    "import plotly.offline as po"
   ]
  },
  {
   "cell_type": "code",
   "execution_count": null,
   "metadata": {},
   "outputs": [],
   "source": [
    "po.plot(fig, filename = 'time_KDF_18.html')"
   ]
  },
  {
   "cell_type": "code",
   "execution_count": null,
   "metadata": {},
   "outputs": [],
   "source": [
    "# данные для гистограм\n",
    "x1 = time_int['log_time'].to_list()\n",
    "x2 = time_dom['log_time'].to_list()\n",
    "hist_data = [x1, x2]\n",
    "\n",
    "# метки групп\n",
    "group_labels = ['internatinal', 'domestic']\n",
    "\n",
    "# кастомизация размера бинов\n",
    "fig = ff.create_distplot(hist_data, group_labels, bin_size=.1)\n",
    "#fig.show() у меня закомментировано, подыхает оперативка :)\n",
    "\n",
    "po.plot(fig, filename = 'time_log_KDF_18.html')"
   ]
  },
  {
   "cell_type": "code",
   "execution_count": null,
   "metadata": {},
   "outputs": [],
   "source": [
    "pd.DataFrame(time_int['log_time'].describe())"
   ]
  },
  {
   "cell_type": "code",
   "execution_count": null,
   "metadata": {
    "scrolled": true
   },
   "outputs": [],
   "source": [
    "pd.DataFrame(time_dom['log_time'].describe())"
   ]
  },
  {
   "cell_type": "markdown",
   "metadata": {},
   "source": [
    "## 2. Is there are difference in throughput between national and international trips?"
   ]
  },
  {
   "cell_type": "markdown",
   "metadata": {},
   "source": [
    "> На графике видно, что распределение может быть похоже на нормальное после преобразования. Вторая гипотеза - это то, что оно может быть би-модальное, иметь несколько мод (часто встречающихся значений). Так как перед нами на графиках функция плотности, по оси Y мы видим вероятность появления такого события в выборке, соответсвенно, где самые большие холмы - там наибольшая вероятность, таких событий больше всего в выборке. Чтобы понять, так это или нет, нужно провести тесты."
   ]
  },
  {
   "cell_type": "code",
   "execution_count": 57,
   "metadata": {},
   "outputs": [],
   "source": [
    "from scipy.stats import kstest,ks_2samp"
   ]
  },
  {
   "cell_type": "code",
   "execution_count": 58,
   "metadata": {},
   "outputs": [],
   "source": [
    "import statsmodels.api as sm"
   ]
  },
  {
   "cell_type": "markdown",
   "metadata": {},
   "source": [
    "#### Как получается КК (квантиль-квантиль) график:"
   ]
  },
  {
   "cell_type": "markdown",
   "metadata": {},
   "source": [
    "![QQ](qq_plot.png)"
   ]
  },
  {
   "cell_type": "code",
   "execution_count": null,
   "metadata": {},
   "outputs": [],
   "source": [
    "sm.qqplot(time_int['log_time'], line='s')"
   ]
  },
  {
   "cell_type": "code",
   "execution_count": null,
   "metadata": {},
   "outputs": [],
   "source": [
    "sm.qqplot(time_dom['log_time'], line='s')"
   ]
  },
  {
   "cell_type": "markdown",
   "metadata": {},
   "source": [
    "#### Тест Колмогорова-Смирнова на нормальное распределение"
   ]
  },
  {
   "cell_type": "code",
   "execution_count": null,
   "metadata": {},
   "outputs": [],
   "source": [
    "print(kstest(time_dom['log_time'].to_list(), 'norm'))"
   ]
  },
  {
   "cell_type": "code",
   "execution_count": null,
   "metadata": {
    "scrolled": true
   },
   "outputs": [],
   "source": [
    "print(kstest(time_int['log_time'].to_list(), 'norm'))"
   ]
  },
  {
   "cell_type": "markdown",
   "metadata": {},
   "source": [
    "> если p-value<0.05, то распределение не нормальное"
   ]
  },
  {
   "cell_type": "markdown",
   "metadata": {},
   "source": [
    "#### Дискретный тест К-С на то, что нвблюдения соответсвуют одному распределению"
   ]
  },
  {
   "cell_type": "code",
   "execution_count": null,
   "metadata": {},
   "outputs": [],
   "source": [
    "# p-value просто огромное, согласно тесту, наши наблюдения из одного распределения\n",
    "ks_2samp(time_int['log_time'], time_dom['log_time'])"
   ]
  },
  {
   "cell_type": "markdown",
   "metadata": {},
   "source": [
    "> <b>Инсайт:</b> за 2018 год обработка деклараций от сабмита работником до оплаты статистически не различается для деклараций на международные командировки и деклараций на внутренние командировки"
   ]
  },
  {
   "cell_type": "code",
   "execution_count": null,
   "metadata": {},
   "outputs": [],
   "source": [
    "# DFG репрезентация "
   ]
  },
  {
   "cell_type": "code",
   "execution_count": null,
   "metadata": {},
   "outputs": [],
   "source": [
    "dd_18 = dd_18[dd_18['case:id'].isin(set(time_dom['case:id']))]"
   ]
  },
  {
   "cell_type": "code",
   "execution_count": null,
   "metadata": {},
   "outputs": [],
   "source": [
    "dd_18.columns=['id', 'org:resource', 'concept:name', 'time:timestamp_old', 'org:role',\n",
    "       'case:id', 'case:concept:name', 'case:BudgetNumber',\n",
    "       'case:DeclarationNumber', 'case:Amount', 'year', 'timezone', 'time:timestamp']"
   ]
  },
  {
   "cell_type": "code",
   "execution_count": null,
   "metadata": {},
   "outputs": [],
   "source": [
    "int_18.columns = ['id', 'org:resource', 'concept:name', 'time:timestamp_old', 'org:role',\n",
    "       'case:Permit travel permit number', 'case:DeclarationNumber',\n",
    "       'case:Amount', 'case:RequestedAmount', 'case:Permit TaskNumber',\n",
    "       'case:Permit BudgetNumber', 'case:OriginalAmount',\n",
    "       'case:Permit ProjectNumber', 'case:concept:name',\n",
    "       'case:Permit OrganizationalEntity', 'case:travel permit number',\n",
    "       'case:Permit RequestedBudget', 'case:id', 'case:Permit ID',\n",
    "       'case:Permit id', 'case:BudgetNumber', 'case:Permit ActivityNumber',\n",
    "       'case:AdjustedAmount', 'time:timestamp', 'timezone', 'year']"
   ]
  },
  {
   "cell_type": "code",
   "execution_count": null,
   "metadata": {},
   "outputs": [],
   "source": [
    "from pm4py.objects.conversion.log import factory as conversion_factory\n",
    "\n",
    "log_d18 = conversion_factory.apply(dd_18)"
   ]
  },
  {
   "cell_type": "code",
   "execution_count": null,
   "metadata": {},
   "outputs": [],
   "source": [
    "from pm4py.algo.discovery.dfg import factory as dfg_factory\n",
    "\n",
    "dfg_d18 = dfg_factory.apply(log_d18)"
   ]
  },
  {
   "cell_type": "code",
   "execution_count": null,
   "metadata": {
    "scrolled": false
   },
   "outputs": [],
   "source": [
    "from pm4py.visualization.dfg import factory as dfg_vis_factory\n",
    "\n",
    "gviz = dfg_vis_factory.apply(dfg_d18, log=log_d18, variant=\"frequency\")\n",
    "dfg_vis_factory.view(gviz)"
   ]
  },
  {
   "cell_type": "code",
   "execution_count": null,
   "metadata": {
    "scrolled": false
   },
   "outputs": [],
   "source": [
    "from pm4py.algo.discovery.dfg import factory as dfg_factory\n",
    "from pm4py.visualization.dfg import factory as dfg_vis_factory\n",
    "\n",
    "dfg_d18 = dfg_factory.apply(log_d18, variant=\"performance\")\n",
    "gviz = dfg_vis_factory.apply(dfg_d18, log=log_d18, variant=\"performance\")\n",
    "dfg_vis_factory.view(gviz)"
   ]
  },
  {
   "cell_type": "code",
   "execution_count": null,
   "metadata": {},
   "outputs": [],
   "source": [
    "log_int18 = conversion_factory.apply(int_18)\n",
    "dfg_int18 = dfg_factory.apply(log_int18)\n",
    "gviz = dfg_vis_factory.apply(dfg_int18, log=log_int18, variant=\"frequency\")\n",
    "dfg_vis_factory.view(gviz)"
   ]
  },
  {
   "cell_type": "code",
   "execution_count": null,
   "metadata": {},
   "outputs": [],
   "source": [
    "dfg_int18 = dfg_factory.apply(log_int18, variant=\"performance\")\n",
    "gviz = dfg_vis_factory.apply(dfg_int18, log=log_int18, variant=\"performance\")\n",
    "dfg_vis_factory.view(gviz)"
   ]
  }
 ],
 "metadata": {
  "kernelspec": {
   "display_name": "Python 3",
   "language": "python",
   "name": "python3"
  },
  "language_info": {
   "codemirror_mode": {
    "name": "ipython",
    "version": 3
   },
   "file_extension": ".py",
   "mimetype": "text/x-python",
   "name": "python",
   "nbconvert_exporter": "python",
   "pygments_lexer": "ipython3",
   "version": "3.7.6"
  }
 },
 "nbformat": 4,
 "nbformat_minor": 4
}
