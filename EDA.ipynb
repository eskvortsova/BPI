{
 "cells": [
  {
   "cell_type": "code",
   "execution_count": 1,
   "metadata": {},
   "outputs": [],
   "source": [
    "import pandas as pd\n",
    "import pm4py\n",
    "from pm4py.objects.conversion.log.versions import to_dataframe\n",
    "import warnings\n",
    "warnings.filterwarnings('ignore')"
   ]
  },
  {
   "cell_type": "code",
   "execution_count": 2,
   "metadata": {},
   "outputs": [],
   "source": [
    "from pm4py.objects.log.importer import xes"
   ]
  },
  {
   "cell_type": "code",
   "execution_count": 3,
   "metadata": {},
   "outputs": [],
   "source": [
    "from pm4py.objects.log.importer.xes import importer as xes_importer"
   ]
  },
  {
   "cell_type": "markdown",
   "metadata": {},
   "source": [
    "### Таблицы"
   ]
  },
  {
   "cell_type": "code",
   "execution_count": 4,
   "metadata": {},
   "outputs": [
    {
     "data": {
      "application/vnd.jupyter.widget-view+json": {
       "model_id": "0996401b36ab4f2d89b5d6586ed45b5e",
       "version_major": 2,
       "version_minor": 0
      },
      "text/plain": [
       "HBox(children=(FloatProgress(value=0.0, description='parsing log, completed traces :: ', max=10500.0, style=Pr…"
      ]
     },
     "metadata": {},
     "output_type": "display_data"
    },
    {
     "name": "stdout",
     "output_type": "stream",
     "text": [
      "\n"
     ]
    }
   ],
   "source": [
    "domestic_declarations = xes_importer.apply(\n",
    "    'C:\\PM contest\\Common challenge\\DomesticDeclarations.xes_\\DomesticDeclarations.xes')"
   ]
  },
  {
   "cell_type": "code",
   "execution_count": 5,
   "metadata": {},
   "outputs": [
    {
     "data": {
      "application/vnd.jupyter.widget-view+json": {
       "model_id": "9e3c96c1b21d4acebaeee2cf2a08335b",
       "version_major": 2,
       "version_minor": 0
      },
      "text/plain": [
       "HBox(children=(FloatProgress(value=0.0, description='parsing log, completed traces :: ', max=6449.0, style=Pro…"
      ]
     },
     "metadata": {},
     "output_type": "display_data"
    },
    {
     "name": "stdout",
     "output_type": "stream",
     "text": [
      "\n"
     ]
    }
   ],
   "source": [
    "int_declarations = xes_importer.apply(\n",
    "    'C:\\PM contest\\Common challenge\\InternationalDeclarations.xes_\\InternationalDeclarations.xes')"
   ]
  },
  {
   "cell_type": "code",
   "execution_count": 6,
   "metadata": {},
   "outputs": [
    {
     "data": {
      "application/vnd.jupyter.widget-view+json": {
       "model_id": "91c8098da13e4f18997bc3fb0ac8975e",
       "version_major": 2,
       "version_minor": 0
      },
      "text/plain": [
       "HBox(children=(FloatProgress(value=0.0, description='parsing log, completed traces :: ', max=7065.0, style=Pro…"
      ]
     },
     "metadata": {},
     "output_type": "display_data"
    },
    {
     "name": "stdout",
     "output_type": "stream",
     "text": [
      "\n"
     ]
    }
   ],
   "source": [
    "permit_log = xes_importer.apply(\n",
    "    'C:\\PM contest\\Common challenge\\PermitLog.xes_\\PermitLog.xes')"
   ]
  },
  {
   "cell_type": "code",
   "execution_count": 7,
   "metadata": {},
   "outputs": [
    {
     "data": {
      "application/vnd.jupyter.widget-view+json": {
       "model_id": "e62a73131aa749aa93950be967a3013e",
       "version_major": 2,
       "version_minor": 0
      },
      "text/plain": [
       "HBox(children=(FloatProgress(value=0.0, description='parsing log, completed traces :: ', max=2099.0, style=Pro…"
      ]
     },
     "metadata": {},
     "output_type": "display_data"
    },
    {
     "name": "stdout",
     "output_type": "stream",
     "text": [
      "\n"
     ]
    }
   ],
   "source": [
    "prepaid_travel_cost = xes_importer.apply(\n",
    "    'C:\\PM contest\\Common challenge\\PrepaidTravelCost.xes_\\PrepaidTravelCost.xes')"
   ]
  },
  {
   "cell_type": "code",
   "execution_count": 8,
   "metadata": {},
   "outputs": [
    {
     "data": {
      "application/vnd.jupyter.widget-view+json": {
       "model_id": "5b844625eba74c009c39db1b69ad03c6",
       "version_major": 2,
       "version_minor": 0
      },
      "text/plain": [
       "HBox(children=(FloatProgress(value=0.0, description='parsing log, completed traces :: ', max=6886.0, style=Pro…"
      ]
     },
     "metadata": {},
     "output_type": "display_data"
    },
    {
     "name": "stdout",
     "output_type": "stream",
     "text": [
      "\n"
     ]
    }
   ],
   "source": [
    "request_for_payment = xes_importer.apply(\n",
    "    'C:\\PM contest\\Common challenge\\RequestForPayment.xes_\\RequestForPayment.xes')"
   ]
  },
  {
   "cell_type": "code",
   "execution_count": 5,
   "metadata": {},
   "outputs": [],
   "source": [
    "domestic_declarations = to_dataframe.apply(domestic_declarations)\n",
    "#int_declarations = to_dataframe.apply(int_declarations)\n",
    "#permit_log = to_dataframe.apply(permit_log)\n",
    "#prepaid_travel_cost = to_dataframe.apply(prepaid_travel_cost)\n",
    "#request_for_payment = to_dataframe.apply(request_for_payment)"
   ]
  },
  {
   "cell_type": "markdown",
   "metadata": {},
   "source": [
    "## Domestic Decararions & IDs"
   ]
  },
  {
   "cell_type": "code",
   "execution_count": 10,
   "metadata": {},
   "outputs": [],
   "source": [
    "# проверить совпадают ли id с айди деклараций"
   ]
  },
  {
   "cell_type": "code",
   "execution_count": 11,
   "metadata": {},
   "outputs": [],
   "source": [
    "domestic_declarations['id_num'] = domestic_declarations['id'].map(lambda x: int(x.split()[-1].split('_')[0]))\n",
    "domestic_declarations['case:id_num'] = domestic_declarations['case:id'].map(lambda x: int(x.split()[-1]))\n",
    "domestic_declarations['ccn_num'] = domestic_declarations['case:id'].map(lambda x: int(x.split()[-1]))"
   ]
  },
  {
   "cell_type": "code",
   "execution_count": 12,
   "metadata": {},
   "outputs": [],
   "source": [
    "domestic_declarations['id_vs_case:id'] = domestic_declarations['id_num']-domestic_declarations['case:id_num']\n",
    "# case concept name совпадает с case:id\n",
    "domestic_declarations['ccn_vs_case:id'] = domestic_declarations['ccn_num']-domestic_declarations['case:id_num']\n",
    "domestic_declarations['id_vs_ccn'] = domestic_declarations['id_num']-domestic_declarations['ccn_num']"
   ]
  },
  {
   "cell_type": "code",
   "execution_count": 13,
   "metadata": {},
   "outputs": [
    {
     "data": {
      "text/plain": [
       "56437"
      ]
     },
     "execution_count": 13,
     "metadata": {},
     "output_type": "execute_result"
    }
   ],
   "source": [
    "len(domestic_declarations)"
   ]
  },
  {
   "cell_type": "code",
   "execution_count": 14,
   "metadata": {},
   "outputs": [
    {
     "data": {
      "text/plain": [
       "20084"
      ]
     },
     "execution_count": 14,
     "metadata": {},
     "output_type": "execute_result"
    }
   ],
   "source": [
    "len(domestic_declarations[domestic_declarations['id_vs_case:id']==0])"
   ]
  },
  {
   "cell_type": "code",
   "execution_count": 15,
   "metadata": {
    "scrolled": true
   },
   "outputs": [
    {
     "data": {
      "application/vnd.jupyter.widget-view+json": {
       "model_id": "6370fb307dd642d4a35de3353a9f0754",
       "version_major": 2,
       "version_minor": 0
      },
      "text/plain": [
       "HBox(children=(FloatProgress(value=0.0, description='parsing log, completed traces :: ', max=10500.0, style=Pr…"
      ]
     },
     "metadata": {},
     "output_type": "display_data"
    },
    {
     "name": "stdout",
     "output_type": "stream",
     "text": [
      "\n"
     ]
    }
   ],
   "source": [
    "# на исходную\n",
    "domestic_declarations = xes_importer.apply(\n",
    "    'C:\\PM contest\\Common challenge\\DomesticDeclarations.xes_\\DomesticDeclarations.xes')\n",
    "domestic_declarations = to_dataframe.apply(domestic_declarations)"
   ]
  },
  {
   "cell_type": "code",
   "execution_count": 16,
   "metadata": {},
   "outputs": [
    {
     "data": {
      "text/html": [
       "<div>\n",
       "<style scoped>\n",
       "    .dataframe tbody tr th:only-of-type {\n",
       "        vertical-align: middle;\n",
       "    }\n",
       "\n",
       "    .dataframe tbody tr th {\n",
       "        vertical-align: top;\n",
       "    }\n",
       "\n",
       "    .dataframe thead th {\n",
       "        text-align: right;\n",
       "    }\n",
       "</style>\n",
       "<table border=\"1\" class=\"dataframe\">\n",
       "  <thead>\n",
       "    <tr style=\"text-align: right;\">\n",
       "      <th></th>\n",
       "      <th>id</th>\n",
       "      <th>org:resource</th>\n",
       "      <th>concept:name</th>\n",
       "      <th>time:timestamp</th>\n",
       "      <th>org:role</th>\n",
       "      <th>case:id</th>\n",
       "      <th>case:concept:name</th>\n",
       "      <th>case:BudgetNumber</th>\n",
       "      <th>case:DeclarationNumber</th>\n",
       "      <th>case:Amount</th>\n",
       "    </tr>\n",
       "  </thead>\n",
       "  <tbody>\n",
       "    <tr>\n",
       "      <th>0</th>\n",
       "      <td>st_step 86794_0</td>\n",
       "      <td>STAFF MEMBER</td>\n",
       "      <td>Declaration SUBMITTED by EMPLOYEE</td>\n",
       "      <td>2017-01-09 09:49:50+01:00</td>\n",
       "      <td>EMPLOYEE</td>\n",
       "      <td>declaration 86791</td>\n",
       "      <td>declaration 86791</td>\n",
       "      <td>budget 86566</td>\n",
       "      <td>declaration number 86792</td>\n",
       "      <td>26.851205</td>\n",
       "    </tr>\n",
       "    <tr>\n",
       "      <th>1</th>\n",
       "      <td>st_step 86793_0</td>\n",
       "      <td>STAFF MEMBER</td>\n",
       "      <td>Declaration FINAL_APPROVED by SUPERVISOR</td>\n",
       "      <td>2017-01-09 11:27:48+01:00</td>\n",
       "      <td>SUPERVISOR</td>\n",
       "      <td>declaration 86791</td>\n",
       "      <td>declaration 86791</td>\n",
       "      <td>budget 86566</td>\n",
       "      <td>declaration number 86792</td>\n",
       "      <td>26.851205</td>\n",
       "    </tr>\n",
       "    <tr>\n",
       "      <th>2</th>\n",
       "      <td>dd_declaration 86791_19</td>\n",
       "      <td>SYSTEM</td>\n",
       "      <td>Request Payment</td>\n",
       "      <td>2017-01-10 09:34:44+01:00</td>\n",
       "      <td>UNDEFINED</td>\n",
       "      <td>declaration 86791</td>\n",
       "      <td>declaration 86791</td>\n",
       "      <td>budget 86566</td>\n",
       "      <td>declaration number 86792</td>\n",
       "      <td>26.851205</td>\n",
       "    </tr>\n",
       "  </tbody>\n",
       "</table>\n",
       "</div>"
      ],
      "text/plain": [
       "                        id  org:resource  \\\n",
       "0          st_step 86794_0  STAFF MEMBER   \n",
       "1          st_step 86793_0  STAFF MEMBER   \n",
       "2  dd_declaration 86791_19        SYSTEM   \n",
       "\n",
       "                               concept:name             time:timestamp  \\\n",
       "0         Declaration SUBMITTED by EMPLOYEE  2017-01-09 09:49:50+01:00   \n",
       "1  Declaration FINAL_APPROVED by SUPERVISOR  2017-01-09 11:27:48+01:00   \n",
       "2                           Request Payment  2017-01-10 09:34:44+01:00   \n",
       "\n",
       "     org:role            case:id  case:concept:name case:BudgetNumber  \\\n",
       "0    EMPLOYEE  declaration 86791  declaration 86791      budget 86566   \n",
       "1  SUPERVISOR  declaration 86791  declaration 86791      budget 86566   \n",
       "2   UNDEFINED  declaration 86791  declaration 86791      budget 86566   \n",
       "\n",
       "     case:DeclarationNumber  case:Amount  \n",
       "0  declaration number 86792    26.851205  \n",
       "1  declaration number 86792    26.851205  \n",
       "2  declaration number 86792    26.851205  "
      ]
     },
     "execution_count": 16,
     "metadata": {},
     "output_type": "execute_result"
    }
   ],
   "source": [
    "domestic_declarations.head(3)"
   ]
  },
  {
   "cell_type": "code",
   "execution_count": 17,
   "metadata": {},
   "outputs": [],
   "source": [
    "domestic_declarations['d_id'] = domestic_declarations['case:id'].map(lambda x: int(x.split()[-1]))"
   ]
  },
  {
   "cell_type": "code",
   "execution_count": 18,
   "metadata": {},
   "outputs": [],
   "source": [
    "ids_ = domestic_declarations.groupby(['d_id'])[['case:id']].count().sort_values(['case:id'], ascending = False)"
   ]
  },
  {
   "cell_type": "code",
   "execution_count": 19,
   "metadata": {},
   "outputs": [],
   "source": [
    "domestic_declarations['id_param[0]'] = domestic_declarations['id'].map(lambda x: x.split()[0])\n",
    "domestic_declarations['id_step'] = domestic_declarations['id'].map(lambda x: x.split()[-1].split('_')[-1])"
   ]
  },
  {
   "cell_type": "code",
   "execution_count": 20,
   "metadata": {},
   "outputs": [
    {
     "data": {
      "text/html": [
       "<div>\n",
       "<style scoped>\n",
       "    .dataframe tbody tr th:only-of-type {\n",
       "        vertical-align: middle;\n",
       "    }\n",
       "\n",
       "    .dataframe tbody tr th {\n",
       "        vertical-align: top;\n",
       "    }\n",
       "\n",
       "    .dataframe thead th {\n",
       "        text-align: right;\n",
       "    }\n",
       "</style>\n",
       "<table border=\"1\" class=\"dataframe\">\n",
       "  <thead>\n",
       "    <tr style=\"text-align: right;\">\n",
       "      <th></th>\n",
       "      <th>id</th>\n",
       "      <th>org:resource</th>\n",
       "      <th>concept:name</th>\n",
       "      <th>time:timestamp</th>\n",
       "      <th>org:role</th>\n",
       "      <th>case:id</th>\n",
       "      <th>case:concept:name</th>\n",
       "      <th>case:BudgetNumber</th>\n",
       "      <th>case:DeclarationNumber</th>\n",
       "      <th>case:Amount</th>\n",
       "      <th>d_id</th>\n",
       "      <th>id_param[0]</th>\n",
       "      <th>id_step</th>\n",
       "    </tr>\n",
       "  </thead>\n",
       "  <tbody>\n",
       "    <tr>\n",
       "      <th>0</th>\n",
       "      <td>st_step 86794_0</td>\n",
       "      <td>STAFF MEMBER</td>\n",
       "      <td>Declaration SUBMITTED by EMPLOYEE</td>\n",
       "      <td>2017-01-09 09:49:50+01:00</td>\n",
       "      <td>EMPLOYEE</td>\n",
       "      <td>declaration 86791</td>\n",
       "      <td>declaration 86791</td>\n",
       "      <td>budget 86566</td>\n",
       "      <td>declaration number 86792</td>\n",
       "      <td>26.851205</td>\n",
       "      <td>86791</td>\n",
       "      <td>st_step</td>\n",
       "      <td>0</td>\n",
       "    </tr>\n",
       "    <tr>\n",
       "      <th>1</th>\n",
       "      <td>st_step 86793_0</td>\n",
       "      <td>STAFF MEMBER</td>\n",
       "      <td>Declaration FINAL_APPROVED by SUPERVISOR</td>\n",
       "      <td>2017-01-09 11:27:48+01:00</td>\n",
       "      <td>SUPERVISOR</td>\n",
       "      <td>declaration 86791</td>\n",
       "      <td>declaration 86791</td>\n",
       "      <td>budget 86566</td>\n",
       "      <td>declaration number 86792</td>\n",
       "      <td>26.851205</td>\n",
       "      <td>86791</td>\n",
       "      <td>st_step</td>\n",
       "      <td>0</td>\n",
       "    </tr>\n",
       "  </tbody>\n",
       "</table>\n",
       "</div>"
      ],
      "text/plain": [
       "                id  org:resource                              concept:name  \\\n",
       "0  st_step 86794_0  STAFF MEMBER         Declaration SUBMITTED by EMPLOYEE   \n",
       "1  st_step 86793_0  STAFF MEMBER  Declaration FINAL_APPROVED by SUPERVISOR   \n",
       "\n",
       "              time:timestamp    org:role            case:id  \\\n",
       "0  2017-01-09 09:49:50+01:00    EMPLOYEE  declaration 86791   \n",
       "1  2017-01-09 11:27:48+01:00  SUPERVISOR  declaration 86791   \n",
       "\n",
       "   case:concept:name case:BudgetNumber    case:DeclarationNumber  case:Amount  \\\n",
       "0  declaration 86791      budget 86566  declaration number 86792    26.851205   \n",
       "1  declaration 86791      budget 86566  declaration number 86792    26.851205   \n",
       "\n",
       "    d_id id_param[0] id_step  \n",
       "0  86791     st_step       0  \n",
       "1  86791     st_step       0  "
      ]
     },
     "execution_count": 20,
     "metadata": {},
     "output_type": "execute_result"
    }
   ],
   "source": [
    "domestic_declarations.head(2)"
   ]
  },
  {
   "cell_type": "code",
   "execution_count": 21,
   "metadata": {},
   "outputs": [
    {
     "data": {
      "text/plain": [
       "st_step           36353\n",
       "dd_declaration    20084\n",
       "Name: id_param[0], dtype: int64"
      ]
     },
     "execution_count": 21,
     "metadata": {},
     "output_type": "execute_result"
    }
   ],
   "source": [
    "domestic_declarations['id_param[0]'].value_counts()"
   ]
  },
  {
   "cell_type": "code",
   "execution_count": 22,
   "metadata": {},
   "outputs": [
    {
     "data": {
      "text/html": [
       "<div>\n",
       "<style scoped>\n",
       "    .dataframe tbody tr th:only-of-type {\n",
       "        vertical-align: middle;\n",
       "    }\n",
       "\n",
       "    .dataframe tbody tr th {\n",
       "        vertical-align: top;\n",
       "    }\n",
       "\n",
       "    .dataframe thead th {\n",
       "        text-align: right;\n",
       "    }\n",
       "</style>\n",
       "<table border=\"1\" class=\"dataframe\">\n",
       "  <thead>\n",
       "    <tr style=\"text-align: right;\">\n",
       "      <th></th>\n",
       "      <th></th>\n",
       "      <th>id</th>\n",
       "    </tr>\n",
       "    <tr>\n",
       "      <th>d_id</th>\n",
       "      <th>id_param[0]</th>\n",
       "      <th></th>\n",
       "    </tr>\n",
       "  </thead>\n",
       "  <tbody>\n",
       "    <tr>\n",
       "      <th rowspan=\"2\" valign=\"top\">86564</th>\n",
       "      <th>dd_declaration</th>\n",
       "      <td>2</td>\n",
       "    </tr>\n",
       "    <tr>\n",
       "      <th>st_step</th>\n",
       "      <td>5</td>\n",
       "    </tr>\n",
       "    <tr>\n",
       "      <th rowspan=\"2\" valign=\"top\">86572</th>\n",
       "      <th>dd_declaration</th>\n",
       "      <td>2</td>\n",
       "    </tr>\n",
       "    <tr>\n",
       "      <th>st_step</th>\n",
       "      <td>2</td>\n",
       "    </tr>\n",
       "    <tr>\n",
       "      <th>86576</th>\n",
       "      <th>dd_declaration</th>\n",
       "      <td>2</td>\n",
       "    </tr>\n",
       "    <tr>\n",
       "      <th>...</th>\n",
       "      <th>...</th>\n",
       "      <td>...</td>\n",
       "    </tr>\n",
       "    <tr>\n",
       "      <th rowspan=\"2\" valign=\"top\">143451</th>\n",
       "      <th>dd_declaration</th>\n",
       "      <td>2</td>\n",
       "    </tr>\n",
       "    <tr>\n",
       "      <th>st_step</th>\n",
       "      <td>3</td>\n",
       "    </tr>\n",
       "    <tr>\n",
       "      <th rowspan=\"2\" valign=\"top\">143456</th>\n",
       "      <th>dd_declaration</th>\n",
       "      <td>2</td>\n",
       "    </tr>\n",
       "    <tr>\n",
       "      <th>st_step</th>\n",
       "      <td>4</td>\n",
       "    </tr>\n",
       "    <tr>\n",
       "      <th>143462</th>\n",
       "      <th>st_step</th>\n",
       "      <td>3</td>\n",
       "    </tr>\n",
       "  </tbody>\n",
       "</table>\n",
       "<p>20547 rows × 1 columns</p>\n",
       "</div>"
      ],
      "text/plain": [
       "                       id\n",
       "d_id   id_param[0]       \n",
       "86564  dd_declaration   2\n",
       "       st_step          5\n",
       "86572  dd_declaration   2\n",
       "       st_step          2\n",
       "86576  dd_declaration   2\n",
       "...                    ..\n",
       "143451 dd_declaration   2\n",
       "       st_step          3\n",
       "143456 dd_declaration   2\n",
       "       st_step          4\n",
       "143462 st_step          3\n",
       "\n",
       "[20547 rows x 1 columns]"
      ]
     },
     "execution_count": 22,
     "metadata": {},
     "output_type": "execute_result"
    }
   ],
   "source": [
    "# таблица, в которой мы можем отследить оплаченные декларации\n",
    "domestic_declarations.groupby(['d_id','id_param[0]'])[['id']].count()"
   ]
  },
  {
   "cell_type": "code",
   "execution_count": 23,
   "metadata": {},
   "outputs": [
    {
     "data": {
      "text/html": [
       "<div>\n",
       "<style scoped>\n",
       "    .dataframe tbody tr th:only-of-type {\n",
       "        vertical-align: middle;\n",
       "    }\n",
       "\n",
       "    .dataframe tbody tr th {\n",
       "        vertical-align: top;\n",
       "    }\n",
       "\n",
       "    .dataframe thead th {\n",
       "        text-align: right;\n",
       "    }\n",
       "</style>\n",
       "<table border=\"1\" class=\"dataframe\">\n",
       "  <thead>\n",
       "    <tr style=\"text-align: right;\">\n",
       "      <th></th>\n",
       "      <th></th>\n",
       "      <th>id</th>\n",
       "    </tr>\n",
       "    <tr>\n",
       "      <th>d_id</th>\n",
       "      <th>concept:name</th>\n",
       "      <th></th>\n",
       "    </tr>\n",
       "  </thead>\n",
       "  <tbody>\n",
       "    <tr>\n",
       "      <th rowspan=\"2\" valign=\"top\">86564</th>\n",
       "      <th>Payment Handled</th>\n",
       "      <td>1</td>\n",
       "    </tr>\n",
       "    <tr>\n",
       "      <th>Request Payment</th>\n",
       "      <td>1</td>\n",
       "    </tr>\n",
       "    <tr>\n",
       "      <th rowspan=\"2\" valign=\"top\">86572</th>\n",
       "      <th>Payment Handled</th>\n",
       "      <td>1</td>\n",
       "    </tr>\n",
       "    <tr>\n",
       "      <th>Request Payment</th>\n",
       "      <td>1</td>\n",
       "    </tr>\n",
       "    <tr>\n",
       "      <th>86576</th>\n",
       "      <th>Payment Handled</th>\n",
       "      <td>1</td>\n",
       "    </tr>\n",
       "    <tr>\n",
       "      <th>...</th>\n",
       "      <th>...</th>\n",
       "      <td>...</td>\n",
       "    </tr>\n",
       "    <tr>\n",
       "      <th>143446</th>\n",
       "      <th>Request Payment</th>\n",
       "      <td>1</td>\n",
       "    </tr>\n",
       "    <tr>\n",
       "      <th rowspan=\"2\" valign=\"top\">143451</th>\n",
       "      <th>Payment Handled</th>\n",
       "      <td>1</td>\n",
       "    </tr>\n",
       "    <tr>\n",
       "      <th>Request Payment</th>\n",
       "      <td>1</td>\n",
       "    </tr>\n",
       "    <tr>\n",
       "      <th rowspan=\"2\" valign=\"top\">143456</th>\n",
       "      <th>Payment Handled</th>\n",
       "      <td>1</td>\n",
       "    </tr>\n",
       "    <tr>\n",
       "      <th>Request Payment</th>\n",
       "      <td>1</td>\n",
       "    </tr>\n",
       "  </tbody>\n",
       "</table>\n",
       "<p>20084 rows × 1 columns</p>\n",
       "</div>"
      ],
      "text/plain": [
       "                        id\n",
       "d_id   concept:name       \n",
       "86564  Payment Handled   1\n",
       "       Request Payment   1\n",
       "86572  Payment Handled   1\n",
       "       Request Payment   1\n",
       "86576  Payment Handled   1\n",
       "...                     ..\n",
       "143446 Request Payment   1\n",
       "143451 Payment Handled   1\n",
       "       Request Payment   1\n",
       "143456 Payment Handled   1\n",
       "       Request Payment   1\n",
       "\n",
       "[20084 rows x 1 columns]"
      ]
     },
     "execution_count": 23,
     "metadata": {},
     "output_type": "execute_result"
    }
   ],
   "source": [
    "# можем посмотреть, по каким заявкам были запросы на оплату, на какие оплата проведена\n",
    "domestic_declarations[domestic_declarations['id_param[0]']=='dd_declaration'].groupby(['d_id','concept:name'])[['id']].count()"
   ]
  },
  {
   "cell_type": "code",
   "execution_count": 24,
   "metadata": {
    "scrolled": true
   },
   "outputs": [
    {
     "data": {
      "text/html": [
       "<div>\n",
       "<style scoped>\n",
       "    .dataframe tbody tr th:only-of-type {\n",
       "        vertical-align: middle;\n",
       "    }\n",
       "\n",
       "    .dataframe tbody tr th {\n",
       "        vertical-align: top;\n",
       "    }\n",
       "\n",
       "    .dataframe thead th {\n",
       "        text-align: right;\n",
       "    }\n",
       "</style>\n",
       "<table border=\"1\" class=\"dataframe\">\n",
       "  <thead>\n",
       "    <tr style=\"text-align: right;\">\n",
       "      <th></th>\n",
       "      <th>id</th>\n",
       "      <th>org:resource</th>\n",
       "      <th>concept:name</th>\n",
       "      <th>time:timestamp</th>\n",
       "      <th>org:role</th>\n",
       "      <th>case:id</th>\n",
       "      <th>case:concept:name</th>\n",
       "      <th>case:BudgetNumber</th>\n",
       "      <th>case:DeclarationNumber</th>\n",
       "      <th>case:Amount</th>\n",
       "      <th>d_id</th>\n",
       "      <th>id_param[0]</th>\n",
       "      <th>id_step</th>\n",
       "    </tr>\n",
       "  </thead>\n",
       "  <tbody>\n",
       "    <tr>\n",
       "      <th>52112</th>\n",
       "      <td>st_step 137350_0</td>\n",
       "      <td>STAFF MEMBER</td>\n",
       "      <td>Declaration SUBMITTED by EMPLOYEE</td>\n",
       "      <td>2018-11-30 16:29:16+01:00</td>\n",
       "      <td>EMPLOYEE</td>\n",
       "      <td>declaration 137336</td>\n",
       "      <td>declaration 137336</td>\n",
       "      <td>budget 86566</td>\n",
       "      <td>declaration number 137337</td>\n",
       "      <td>77.102908</td>\n",
       "      <td>137336</td>\n",
       "      <td>st_step</td>\n",
       "      <td>0</td>\n",
       "    </tr>\n",
       "    <tr>\n",
       "      <th>52113</th>\n",
       "      <td>st_step 137349_0</td>\n",
       "      <td>STAFF MEMBER</td>\n",
       "      <td>Declaration APPROVED by ADMINISTRATION</td>\n",
       "      <td>2018-11-30 16:29:20+01:00</td>\n",
       "      <td>ADMINISTRATION</td>\n",
       "      <td>declaration 137336</td>\n",
       "      <td>declaration 137336</td>\n",
       "      <td>budget 86566</td>\n",
       "      <td>declaration number 137337</td>\n",
       "      <td>77.102908</td>\n",
       "      <td>137336</td>\n",
       "      <td>st_step</td>\n",
       "      <td>0</td>\n",
       "    </tr>\n",
       "    <tr>\n",
       "      <th>52114</th>\n",
       "      <td>st_step 137351_0</td>\n",
       "      <td>STAFF MEMBER</td>\n",
       "      <td>Declaration REJECTED by BUDGET OWNER</td>\n",
       "      <td>2018-12-03 09:29:24+01:00</td>\n",
       "      <td>BUDGET OWNER</td>\n",
       "      <td>declaration 137336</td>\n",
       "      <td>declaration 137336</td>\n",
       "      <td>budget 86566</td>\n",
       "      <td>declaration number 137337</td>\n",
       "      <td>77.102908</td>\n",
       "      <td>137336</td>\n",
       "      <td>st_step</td>\n",
       "      <td>0</td>\n",
       "    </tr>\n",
       "    <tr>\n",
       "      <th>52115</th>\n",
       "      <td>st_step 137352_0</td>\n",
       "      <td>STAFF MEMBER</td>\n",
       "      <td>Declaration REJECTED by EMPLOYEE</td>\n",
       "      <td>2018-12-04 00:59:24+01:00</td>\n",
       "      <td>EMPLOYEE</td>\n",
       "      <td>declaration 137336</td>\n",
       "      <td>declaration 137336</td>\n",
       "      <td>budget 86566</td>\n",
       "      <td>declaration number 137337</td>\n",
       "      <td>77.102908</td>\n",
       "      <td>137336</td>\n",
       "      <td>st_step</td>\n",
       "      <td>0</td>\n",
       "    </tr>\n",
       "    <tr>\n",
       "      <th>52116</th>\n",
       "      <td>st_step 137346_0</td>\n",
       "      <td>STAFF MEMBER</td>\n",
       "      <td>Declaration SUBMITTED by EMPLOYEE</td>\n",
       "      <td>2018-12-04 08:42:48+01:00</td>\n",
       "      <td>EMPLOYEE</td>\n",
       "      <td>declaration 137336</td>\n",
       "      <td>declaration 137336</td>\n",
       "      <td>budget 86566</td>\n",
       "      <td>declaration number 137337</td>\n",
       "      <td>77.102908</td>\n",
       "      <td>137336</td>\n",
       "      <td>st_step</td>\n",
       "      <td>0</td>\n",
       "    </tr>\n",
       "    <tr>\n",
       "      <th>52117</th>\n",
       "      <td>st_step 137347_0</td>\n",
       "      <td>STAFF MEMBER</td>\n",
       "      <td>Declaration REJECTED by ADMINISTRATION</td>\n",
       "      <td>2018-12-04 08:42:50+01:00</td>\n",
       "      <td>ADMINISTRATION</td>\n",
       "      <td>declaration 137336</td>\n",
       "      <td>declaration 137336</td>\n",
       "      <td>budget 86566</td>\n",
       "      <td>declaration number 137337</td>\n",
       "      <td>77.102908</td>\n",
       "      <td>137336</td>\n",
       "      <td>st_step</td>\n",
       "      <td>0</td>\n",
       "    </tr>\n",
       "    <tr>\n",
       "      <th>52118</th>\n",
       "      <td>st_step 137348_0</td>\n",
       "      <td>STAFF MEMBER</td>\n",
       "      <td>Declaration REJECTED by EMPLOYEE</td>\n",
       "      <td>2018-12-05 11:20:20+01:00</td>\n",
       "      <td>EMPLOYEE</td>\n",
       "      <td>declaration 137336</td>\n",
       "      <td>declaration 137336</td>\n",
       "      <td>budget 86566</td>\n",
       "      <td>declaration number 137337</td>\n",
       "      <td>77.102908</td>\n",
       "      <td>137336</td>\n",
       "      <td>st_step</td>\n",
       "      <td>0</td>\n",
       "    </tr>\n",
       "    <tr>\n",
       "      <th>52119</th>\n",
       "      <td>st_step 137343_0</td>\n",
       "      <td>STAFF MEMBER</td>\n",
       "      <td>Declaration SUBMITTED by EMPLOYEE</td>\n",
       "      <td>2018-12-05 11:46:26+01:00</td>\n",
       "      <td>EMPLOYEE</td>\n",
       "      <td>declaration 137336</td>\n",
       "      <td>declaration 137336</td>\n",
       "      <td>budget 86566</td>\n",
       "      <td>declaration number 137337</td>\n",
       "      <td>77.102908</td>\n",
       "      <td>137336</td>\n",
       "      <td>st_step</td>\n",
       "      <td>0</td>\n",
       "    </tr>\n",
       "    <tr>\n",
       "      <th>52120</th>\n",
       "      <td>st_step 137345_0</td>\n",
       "      <td>STAFF MEMBER</td>\n",
       "      <td>Declaration REJECTED by ADMINISTRATION</td>\n",
       "      <td>2018-12-05 11:46:28+01:00</td>\n",
       "      <td>ADMINISTRATION</td>\n",
       "      <td>declaration 137336</td>\n",
       "      <td>declaration 137336</td>\n",
       "      <td>budget 86566</td>\n",
       "      <td>declaration number 137337</td>\n",
       "      <td>77.102908</td>\n",
       "      <td>137336</td>\n",
       "      <td>st_step</td>\n",
       "      <td>0</td>\n",
       "    </tr>\n",
       "    <tr>\n",
       "      <th>52121</th>\n",
       "      <td>st_step 137344_0</td>\n",
       "      <td>STAFF MEMBER</td>\n",
       "      <td>Declaration SUBMITTED by EMPLOYEE</td>\n",
       "      <td>2018-12-06 10:32:02+01:00</td>\n",
       "      <td>EMPLOYEE</td>\n",
       "      <td>declaration 137336</td>\n",
       "      <td>declaration 137336</td>\n",
       "      <td>budget 86566</td>\n",
       "      <td>declaration number 137337</td>\n",
       "      <td>77.102908</td>\n",
       "      <td>137336</td>\n",
       "      <td>st_step</td>\n",
       "      <td>0</td>\n",
       "    </tr>\n",
       "    <tr>\n",
       "      <th>52122</th>\n",
       "      <td>st_step 137342_0</td>\n",
       "      <td>STAFF MEMBER</td>\n",
       "      <td>Declaration REJECTED by EMPLOYEE</td>\n",
       "      <td>2018-12-06 10:32:16+01:00</td>\n",
       "      <td>EMPLOYEE</td>\n",
       "      <td>declaration 137336</td>\n",
       "      <td>declaration 137336</td>\n",
       "      <td>budget 86566</td>\n",
       "      <td>declaration number 137337</td>\n",
       "      <td>77.102908</td>\n",
       "      <td>137336</td>\n",
       "      <td>st_step</td>\n",
       "      <td>0</td>\n",
       "    </tr>\n",
       "    <tr>\n",
       "      <th>52123</th>\n",
       "      <td>st_step 137339_0</td>\n",
       "      <td>STAFF MEMBER</td>\n",
       "      <td>Declaration SUBMITTED by EMPLOYEE</td>\n",
       "      <td>2018-12-06 10:33:04+01:00</td>\n",
       "      <td>EMPLOYEE</td>\n",
       "      <td>declaration 137336</td>\n",
       "      <td>declaration 137336</td>\n",
       "      <td>budget 86566</td>\n",
       "      <td>declaration number 137337</td>\n",
       "      <td>77.102908</td>\n",
       "      <td>137336</td>\n",
       "      <td>st_step</td>\n",
       "      <td>0</td>\n",
       "    </tr>\n",
       "    <tr>\n",
       "      <th>52124</th>\n",
       "      <td>st_step 137340_0</td>\n",
       "      <td>STAFF MEMBER</td>\n",
       "      <td>Declaration APPROVED by ADMINISTRATION</td>\n",
       "      <td>2018-12-06 10:33:06+01:00</td>\n",
       "      <td>ADMINISTRATION</td>\n",
       "      <td>declaration 137336</td>\n",
       "      <td>declaration 137336</td>\n",
       "      <td>budget 86566</td>\n",
       "      <td>declaration number 137337</td>\n",
       "      <td>77.102908</td>\n",
       "      <td>137336</td>\n",
       "      <td>st_step</td>\n",
       "      <td>0</td>\n",
       "    </tr>\n",
       "    <tr>\n",
       "      <th>52125</th>\n",
       "      <td>st_step 137338_0</td>\n",
       "      <td>STAFF MEMBER</td>\n",
       "      <td>Declaration APPROVED by BUDGET OWNER</td>\n",
       "      <td>2018-12-10 15:59:09+01:00</td>\n",
       "      <td>BUDGET OWNER</td>\n",
       "      <td>declaration 137336</td>\n",
       "      <td>declaration 137336</td>\n",
       "      <td>budget 86566</td>\n",
       "      <td>declaration number 137337</td>\n",
       "      <td>77.102908</td>\n",
       "      <td>137336</td>\n",
       "      <td>st_step</td>\n",
       "      <td>0</td>\n",
       "    </tr>\n",
       "    <tr>\n",
       "      <th>52126</th>\n",
       "      <td>st_step 137341_0</td>\n",
       "      <td>STAFF MEMBER</td>\n",
       "      <td>Declaration FINAL_APPROVED by SUPERVISOR</td>\n",
       "      <td>2018-12-10 23:26:32+01:00</td>\n",
       "      <td>SUPERVISOR</td>\n",
       "      <td>declaration 137336</td>\n",
       "      <td>declaration 137336</td>\n",
       "      <td>budget 86566</td>\n",
       "      <td>declaration number 137337</td>\n",
       "      <td>77.102908</td>\n",
       "      <td>137336</td>\n",
       "      <td>st_step</td>\n",
       "      <td>0</td>\n",
       "    </tr>\n",
       "    <tr>\n",
       "      <th>52127</th>\n",
       "      <td>dd_declaration 137336_19</td>\n",
       "      <td>SYSTEM</td>\n",
       "      <td>Request Payment</td>\n",
       "      <td>2018-12-11 09:52:59+01:00</td>\n",
       "      <td>UNDEFINED</td>\n",
       "      <td>declaration 137336</td>\n",
       "      <td>declaration 137336</td>\n",
       "      <td>budget 86566</td>\n",
       "      <td>declaration number 137337</td>\n",
       "      <td>77.102908</td>\n",
       "      <td>137336</td>\n",
       "      <td>dd_declaration</td>\n",
       "      <td>19</td>\n",
       "    </tr>\n",
       "    <tr>\n",
       "      <th>52128</th>\n",
       "      <td>dd_declaration 137336_20</td>\n",
       "      <td>SYSTEM</td>\n",
       "      <td>Payment Handled</td>\n",
       "      <td>2018-12-13 17:31:07+01:00</td>\n",
       "      <td>UNDEFINED</td>\n",
       "      <td>declaration 137336</td>\n",
       "      <td>declaration 137336</td>\n",
       "      <td>budget 86566</td>\n",
       "      <td>declaration number 137337</td>\n",
       "      <td>77.102908</td>\n",
       "      <td>137336</td>\n",
       "      <td>dd_declaration</td>\n",
       "      <td>20</td>\n",
       "    </tr>\n",
       "  </tbody>\n",
       "</table>\n",
       "</div>"
      ],
      "text/plain": [
       "                             id  org:resource  \\\n",
       "52112          st_step 137350_0  STAFF MEMBER   \n",
       "52113          st_step 137349_0  STAFF MEMBER   \n",
       "52114          st_step 137351_0  STAFF MEMBER   \n",
       "52115          st_step 137352_0  STAFF MEMBER   \n",
       "52116          st_step 137346_0  STAFF MEMBER   \n",
       "52117          st_step 137347_0  STAFF MEMBER   \n",
       "52118          st_step 137348_0  STAFF MEMBER   \n",
       "52119          st_step 137343_0  STAFF MEMBER   \n",
       "52120          st_step 137345_0  STAFF MEMBER   \n",
       "52121          st_step 137344_0  STAFF MEMBER   \n",
       "52122          st_step 137342_0  STAFF MEMBER   \n",
       "52123          st_step 137339_0  STAFF MEMBER   \n",
       "52124          st_step 137340_0  STAFF MEMBER   \n",
       "52125          st_step 137338_0  STAFF MEMBER   \n",
       "52126          st_step 137341_0  STAFF MEMBER   \n",
       "52127  dd_declaration 137336_19        SYSTEM   \n",
       "52128  dd_declaration 137336_20        SYSTEM   \n",
       "\n",
       "                                   concept:name             time:timestamp  \\\n",
       "52112         Declaration SUBMITTED by EMPLOYEE  2018-11-30 16:29:16+01:00   \n",
       "52113    Declaration APPROVED by ADMINISTRATION  2018-11-30 16:29:20+01:00   \n",
       "52114      Declaration REJECTED by BUDGET OWNER  2018-12-03 09:29:24+01:00   \n",
       "52115          Declaration REJECTED by EMPLOYEE  2018-12-04 00:59:24+01:00   \n",
       "52116         Declaration SUBMITTED by EMPLOYEE  2018-12-04 08:42:48+01:00   \n",
       "52117    Declaration REJECTED by ADMINISTRATION  2018-12-04 08:42:50+01:00   \n",
       "52118          Declaration REJECTED by EMPLOYEE  2018-12-05 11:20:20+01:00   \n",
       "52119         Declaration SUBMITTED by EMPLOYEE  2018-12-05 11:46:26+01:00   \n",
       "52120    Declaration REJECTED by ADMINISTRATION  2018-12-05 11:46:28+01:00   \n",
       "52121         Declaration SUBMITTED by EMPLOYEE  2018-12-06 10:32:02+01:00   \n",
       "52122          Declaration REJECTED by EMPLOYEE  2018-12-06 10:32:16+01:00   \n",
       "52123         Declaration SUBMITTED by EMPLOYEE  2018-12-06 10:33:04+01:00   \n",
       "52124    Declaration APPROVED by ADMINISTRATION  2018-12-06 10:33:06+01:00   \n",
       "52125      Declaration APPROVED by BUDGET OWNER  2018-12-10 15:59:09+01:00   \n",
       "52126  Declaration FINAL_APPROVED by SUPERVISOR  2018-12-10 23:26:32+01:00   \n",
       "52127                           Request Payment  2018-12-11 09:52:59+01:00   \n",
       "52128                           Payment Handled  2018-12-13 17:31:07+01:00   \n",
       "\n",
       "             org:role             case:id   case:concept:name  \\\n",
       "52112        EMPLOYEE  declaration 137336  declaration 137336   \n",
       "52113  ADMINISTRATION  declaration 137336  declaration 137336   \n",
       "52114    BUDGET OWNER  declaration 137336  declaration 137336   \n",
       "52115        EMPLOYEE  declaration 137336  declaration 137336   \n",
       "52116        EMPLOYEE  declaration 137336  declaration 137336   \n",
       "52117  ADMINISTRATION  declaration 137336  declaration 137336   \n",
       "52118        EMPLOYEE  declaration 137336  declaration 137336   \n",
       "52119        EMPLOYEE  declaration 137336  declaration 137336   \n",
       "52120  ADMINISTRATION  declaration 137336  declaration 137336   \n",
       "52121        EMPLOYEE  declaration 137336  declaration 137336   \n",
       "52122        EMPLOYEE  declaration 137336  declaration 137336   \n",
       "52123        EMPLOYEE  declaration 137336  declaration 137336   \n",
       "52124  ADMINISTRATION  declaration 137336  declaration 137336   \n",
       "52125    BUDGET OWNER  declaration 137336  declaration 137336   \n",
       "52126      SUPERVISOR  declaration 137336  declaration 137336   \n",
       "52127       UNDEFINED  declaration 137336  declaration 137336   \n",
       "52128       UNDEFINED  declaration 137336  declaration 137336   \n",
       "\n",
       "      case:BudgetNumber     case:DeclarationNumber  case:Amount    d_id  \\\n",
       "52112      budget 86566  declaration number 137337    77.102908  137336   \n",
       "52113      budget 86566  declaration number 137337    77.102908  137336   \n",
       "52114      budget 86566  declaration number 137337    77.102908  137336   \n",
       "52115      budget 86566  declaration number 137337    77.102908  137336   \n",
       "52116      budget 86566  declaration number 137337    77.102908  137336   \n",
       "52117      budget 86566  declaration number 137337    77.102908  137336   \n",
       "52118      budget 86566  declaration number 137337    77.102908  137336   \n",
       "52119      budget 86566  declaration number 137337    77.102908  137336   \n",
       "52120      budget 86566  declaration number 137337    77.102908  137336   \n",
       "52121      budget 86566  declaration number 137337    77.102908  137336   \n",
       "52122      budget 86566  declaration number 137337    77.102908  137336   \n",
       "52123      budget 86566  declaration number 137337    77.102908  137336   \n",
       "52124      budget 86566  declaration number 137337    77.102908  137336   \n",
       "52125      budget 86566  declaration number 137337    77.102908  137336   \n",
       "52126      budget 86566  declaration number 137337    77.102908  137336   \n",
       "52127      budget 86566  declaration number 137337    77.102908  137336   \n",
       "52128      budget 86566  declaration number 137337    77.102908  137336   \n",
       "\n",
       "          id_param[0] id_step  \n",
       "52112         st_step       0  \n",
       "52113         st_step       0  \n",
       "52114         st_step       0  \n",
       "52115         st_step       0  \n",
       "52116         st_step       0  \n",
       "52117         st_step       0  \n",
       "52118         st_step       0  \n",
       "52119         st_step       0  \n",
       "52120         st_step       0  \n",
       "52121         st_step       0  \n",
       "52122         st_step       0  \n",
       "52123         st_step       0  \n",
       "52124         st_step       0  \n",
       "52125         st_step       0  \n",
       "52126         st_step       0  \n",
       "52127  dd_declaration      19  \n",
       "52128  dd_declaration      20  "
      ]
     },
     "execution_count": 24,
     "metadata": {},
     "output_type": "execute_result"
    }
   ],
   "source": [
    "domestic_declarations[domestic_declarations['d_id']==137336].sort_values(['time:timestamp'], ascending = True)"
   ]
  },
  {
   "cell_type": "markdown",
   "metadata": {},
   "source": [
    "## Permit log & ID"
   ]
  },
  {
   "cell_type": "code",
   "execution_count": 25,
   "metadata": {
    "scrolled": true
   },
   "outputs": [
    {
     "data": {
      "text/plain": [
       "173"
      ]
     },
     "execution_count": 25,
     "metadata": {},
     "output_type": "execute_result"
    }
   ],
   "source": [
    "len(permit_log.columns)"
   ]
  },
  {
   "cell_type": "markdown",
   "metadata": {},
   "source": [
    "Необходимо провести аггрегацию по избыточным столбцам:\n",
    "- case:dec_id\n",
    "- case:DeclarationNumber\n",
    "- case:RequestedAmount\n",
    "- case:Activity \n",
    "- case:RfpNumber\n",
    "- case:OrganizationalEntity\n",
    "- case:Rfp_id (Request For Payment)\n",
    "- case:CostType\n",
    "- case:Task\n",
    "- case:Project"
   ]
  },
  {
   "cell_type": "markdown",
   "metadata": {},
   "source": [
    "### aggregation dec_id"
   ]
  },
  {
   "cell_type": "code",
   "execution_count": 26,
   "metadata": {},
   "outputs": [],
   "source": [
    "declaration_columns = list(permit_log.filter(regex=(\"case:dec_id.*\")).columns)"
   ]
  },
  {
   "cell_type": "code",
   "execution_count": 27,
   "metadata": {},
   "outputs": [],
   "source": [
    "permit_log['gen_dec_id'] = None"
   ]
  },
  {
   "cell_type": "code",
   "execution_count": 28,
   "metadata": {},
   "outputs": [],
   "source": [
    "import numpy as np\n",
    "for column in declaration_columns:\n",
    "    permit_log['gen_dec_id'] = np.where(permit_log['gen_dec_id'].isna(),\n",
    "                                        permit_log[column],permit_log['gen_dec_id'])  "
   ]
  },
  {
   "cell_type": "code",
   "execution_count": 29,
   "metadata": {},
   "outputs": [
    {
     "data": {
      "text/html": [
       "<div>\n",
       "<style scoped>\n",
       "    .dataframe tbody tr th:only-of-type {\n",
       "        vertical-align: middle;\n",
       "    }\n",
       "\n",
       "    .dataframe tbody tr th {\n",
       "        vertical-align: top;\n",
       "    }\n",
       "\n",
       "    .dataframe thead th {\n",
       "        text-align: right;\n",
       "    }\n",
       "</style>\n",
       "<table border=\"1\" class=\"dataframe\">\n",
       "  <thead>\n",
       "    <tr style=\"text-align: right;\">\n",
       "      <th></th>\n",
       "      <th>id</th>\n",
       "      <th>org:resource</th>\n",
       "      <th>concept:name</th>\n",
       "      <th>time:timestamp</th>\n",
       "      <th>org:role</th>\n",
       "      <th>case:OrganizationalEntity</th>\n",
       "      <th>case:ProjectNumber</th>\n",
       "      <th>case:TaskNumber</th>\n",
       "      <th>case:dec_id_0</th>\n",
       "      <th>case:ActivityNumber</th>\n",
       "      <th>...</th>\n",
       "      <th>case:Cost Type_10</th>\n",
       "      <th>case:Cost Type_11</th>\n",
       "      <th>case:Cost Type_12</th>\n",
       "      <th>case:Task_5</th>\n",
       "      <th>case:Task_4</th>\n",
       "      <th>case:Task_9</th>\n",
       "      <th>case:Task_8</th>\n",
       "      <th>case:Task_7</th>\n",
       "      <th>case:Task_6</th>\n",
       "      <th>gen_dec_id</th>\n",
       "    </tr>\n",
       "  </thead>\n",
       "  <tbody>\n",
       "    <tr>\n",
       "      <th>24</th>\n",
       "      <td>rv_travel permit 76734_6</td>\n",
       "      <td>STAFF MEMBER</td>\n",
       "      <td>Start trip</td>\n",
       "      <td>2016-12-12 00:00:00+01:00</td>\n",
       "      <td>EMPLOYEE</td>\n",
       "      <td>organizational unit 65458</td>\n",
       "      <td>UNKNOWN</td>\n",
       "      <td>UNKNOWN</td>\n",
       "      <td>NaN</td>\n",
       "      <td>UNKNOWN</td>\n",
       "      <td>...</td>\n",
       "      <td>NaN</td>\n",
       "      <td>NaN</td>\n",
       "      <td>NaN</td>\n",
       "      <td>NaN</td>\n",
       "      <td>NaN</td>\n",
       "      <td>NaN</td>\n",
       "      <td>NaN</td>\n",
       "      <td>NaN</td>\n",
       "      <td>NaN</td>\n",
       "      <td>NaN</td>\n",
       "    </tr>\n",
       "    <tr>\n",
       "      <th>25</th>\n",
       "      <td>rv_travel permit 76734_7</td>\n",
       "      <td>STAFF MEMBER</td>\n",
       "      <td>End trip</td>\n",
       "      <td>2017-01-02 00:00:00+01:00</td>\n",
       "      <td>EMPLOYEE</td>\n",
       "      <td>organizational unit 65458</td>\n",
       "      <td>UNKNOWN</td>\n",
       "      <td>UNKNOWN</td>\n",
       "      <td>NaN</td>\n",
       "      <td>UNKNOWN</td>\n",
       "      <td>...</td>\n",
       "      <td>NaN</td>\n",
       "      <td>NaN</td>\n",
       "      <td>NaN</td>\n",
       "      <td>NaN</td>\n",
       "      <td>NaN</td>\n",
       "      <td>NaN</td>\n",
       "      <td>NaN</td>\n",
       "      <td>NaN</td>\n",
       "      <td>NaN</td>\n",
       "      <td>NaN</td>\n",
       "    </tr>\n",
       "    <tr>\n",
       "      <th>26</th>\n",
       "      <td>st_step 76735_0</td>\n",
       "      <td>STAFF MEMBER</td>\n",
       "      <td>Permit SAVED by EMPLOYEE</td>\n",
       "      <td>2017-02-07 16:08:44+01:00</td>\n",
       "      <td>EMPLOYEE</td>\n",
       "      <td>organizational unit 65458</td>\n",
       "      <td>UNKNOWN</td>\n",
       "      <td>UNKNOWN</td>\n",
       "      <td>NaN</td>\n",
       "      <td>UNKNOWN</td>\n",
       "      <td>...</td>\n",
       "      <td>NaN</td>\n",
       "      <td>NaN</td>\n",
       "      <td>NaN</td>\n",
       "      <td>NaN</td>\n",
       "      <td>NaN</td>\n",
       "      <td>NaN</td>\n",
       "      <td>NaN</td>\n",
       "      <td>NaN</td>\n",
       "      <td>NaN</td>\n",
       "      <td>NaN</td>\n",
       "    </tr>\n",
       "    <tr>\n",
       "      <th>144</th>\n",
       "      <td>st_step 76681_0</td>\n",
       "      <td>STAFF MEMBER</td>\n",
       "      <td>Permit SUBMITTED by EMPLOYEE</td>\n",
       "      <td>2017-01-09 11:45:18+01:00</td>\n",
       "      <td>EMPLOYEE</td>\n",
       "      <td>organizational unit 65458</td>\n",
       "      <td>UNKNOWN</td>\n",
       "      <td>UNKNOWN</td>\n",
       "      <td>NaN</td>\n",
       "      <td>UNKNOWN</td>\n",
       "      <td>...</td>\n",
       "      <td>NaN</td>\n",
       "      <td>NaN</td>\n",
       "      <td>NaN</td>\n",
       "      <td>NaN</td>\n",
       "      <td>NaN</td>\n",
       "      <td>NaN</td>\n",
       "      <td>NaN</td>\n",
       "      <td>NaN</td>\n",
       "      <td>NaN</td>\n",
       "      <td>NaN</td>\n",
       "    </tr>\n",
       "  </tbody>\n",
       "</table>\n",
       "<p>4 rows × 174 columns</p>\n",
       "</div>"
      ],
      "text/plain": [
       "                           id  org:resource                  concept:name  \\\n",
       "24   rv_travel permit 76734_6  STAFF MEMBER                    Start trip   \n",
       "25   rv_travel permit 76734_7  STAFF MEMBER                      End trip   \n",
       "26            st_step 76735_0  STAFF MEMBER      Permit SAVED by EMPLOYEE   \n",
       "144           st_step 76681_0  STAFF MEMBER  Permit SUBMITTED by EMPLOYEE   \n",
       "\n",
       "                time:timestamp  org:role  case:OrganizationalEntity  \\\n",
       "24   2016-12-12 00:00:00+01:00  EMPLOYEE  organizational unit 65458   \n",
       "25   2017-01-02 00:00:00+01:00  EMPLOYEE  organizational unit 65458   \n",
       "26   2017-02-07 16:08:44+01:00  EMPLOYEE  organizational unit 65458   \n",
       "144  2017-01-09 11:45:18+01:00  EMPLOYEE  organizational unit 65458   \n",
       "\n",
       "    case:ProjectNumber case:TaskNumber case:dec_id_0 case:ActivityNumber  ...  \\\n",
       "24             UNKNOWN         UNKNOWN           NaN             UNKNOWN  ...   \n",
       "25             UNKNOWN         UNKNOWN           NaN             UNKNOWN  ...   \n",
       "26             UNKNOWN         UNKNOWN           NaN             UNKNOWN  ...   \n",
       "144            UNKNOWN         UNKNOWN           NaN             UNKNOWN  ...   \n",
       "\n",
       "     case:Cost Type_10 case:Cost Type_11 case:Cost Type_12  case:Task_5  \\\n",
       "24                 NaN               NaN               NaN          NaN   \n",
       "25                 NaN               NaN               NaN          NaN   \n",
       "26                 NaN               NaN               NaN          NaN   \n",
       "144                NaN               NaN               NaN          NaN   \n",
       "\n",
       "    case:Task_4 case:Task_9 case:Task_8  case:Task_7 case:Task_6  gen_dec_id  \n",
       "24          NaN         NaN         NaN          NaN         NaN         NaN  \n",
       "25          NaN         NaN         NaN          NaN         NaN         NaN  \n",
       "26          NaN         NaN         NaN          NaN         NaN         NaN  \n",
       "144         NaN         NaN         NaN          NaN         NaN         NaN  \n",
       "\n",
       "[4 rows x 174 columns]"
      ]
     },
     "execution_count": 29,
     "metadata": {},
     "output_type": "execute_result"
    }
   ],
   "source": [
    "permit_log[permit_log['gen_dec_id'].isna()].head(4)"
   ]
  },
  {
   "cell_type": "markdown",
   "metadata": {},
   "source": [
    "### aggregation DeclarationNumber "
   ]
  },
  {
   "cell_type": "code",
   "execution_count": 30,
   "metadata": {},
   "outputs": [],
   "source": [
    "declaration_nums = list(permit_log.filter(regex=(\"case:DeclarationNumber.*\")).columns)"
   ]
  },
  {
   "cell_type": "code",
   "execution_count": 31,
   "metadata": {},
   "outputs": [],
   "source": [
    "permit_log['gen_dec_num'] = None"
   ]
  },
  {
   "cell_type": "code",
   "execution_count": 32,
   "metadata": {},
   "outputs": [],
   "source": [
    "for column in declaration_nums:\n",
    "    permit_log['gen_dec_num'] = np.where(permit_log['gen_dec_num'].isna(),\n",
    "                                         permit_log[column],permit_log['gen_dec_num'])  "
   ]
  },
  {
   "cell_type": "code",
   "execution_count": 33,
   "metadata": {
    "scrolled": false
   },
   "outputs": [
    {
     "data": {
      "text/html": [
       "<div>\n",
       "<style scoped>\n",
       "    .dataframe tbody tr th:only-of-type {\n",
       "        vertical-align: middle;\n",
       "    }\n",
       "\n",
       "    .dataframe tbody tr th {\n",
       "        vertical-align: top;\n",
       "    }\n",
       "\n",
       "    .dataframe thead th {\n",
       "        text-align: right;\n",
       "    }\n",
       "</style>\n",
       "<table border=\"1\" class=\"dataframe\">\n",
       "  <thead>\n",
       "    <tr style=\"text-align: right;\">\n",
       "      <th></th>\n",
       "      <th>id</th>\n",
       "      <th>org:resource</th>\n",
       "      <th>concept:name</th>\n",
       "      <th>time:timestamp</th>\n",
       "      <th>org:role</th>\n",
       "      <th>case:OrganizationalEntity</th>\n",
       "      <th>case:ProjectNumber</th>\n",
       "      <th>case:TaskNumber</th>\n",
       "      <th>case:dec_id_0</th>\n",
       "      <th>case:ActivityNumber</th>\n",
       "      <th>...</th>\n",
       "      <th>case:Cost Type_11</th>\n",
       "      <th>case:Cost Type_12</th>\n",
       "      <th>case:Task_5</th>\n",
       "      <th>case:Task_4</th>\n",
       "      <th>case:Task_9</th>\n",
       "      <th>case:Task_8</th>\n",
       "      <th>case:Task_7</th>\n",
       "      <th>case:Task_6</th>\n",
       "      <th>gen_dec_id</th>\n",
       "      <th>gen_dec_num</th>\n",
       "    </tr>\n",
       "  </thead>\n",
       "  <tbody>\n",
       "    <tr>\n",
       "      <th>24</th>\n",
       "      <td>rv_travel permit 76734_6</td>\n",
       "      <td>STAFF MEMBER</td>\n",
       "      <td>Start trip</td>\n",
       "      <td>2016-12-12 00:00:00+01:00</td>\n",
       "      <td>EMPLOYEE</td>\n",
       "      <td>organizational unit 65458</td>\n",
       "      <td>UNKNOWN</td>\n",
       "      <td>UNKNOWN</td>\n",
       "      <td>NaN</td>\n",
       "      <td>UNKNOWN</td>\n",
       "      <td>...</td>\n",
       "      <td>NaN</td>\n",
       "      <td>NaN</td>\n",
       "      <td>NaN</td>\n",
       "      <td>NaN</td>\n",
       "      <td>NaN</td>\n",
       "      <td>NaN</td>\n",
       "      <td>NaN</td>\n",
       "      <td>NaN</td>\n",
       "      <td>NaN</td>\n",
       "      <td>NaN</td>\n",
       "    </tr>\n",
       "    <tr>\n",
       "      <th>25</th>\n",
       "      <td>rv_travel permit 76734_7</td>\n",
       "      <td>STAFF MEMBER</td>\n",
       "      <td>End trip</td>\n",
       "      <td>2017-01-02 00:00:00+01:00</td>\n",
       "      <td>EMPLOYEE</td>\n",
       "      <td>organizational unit 65458</td>\n",
       "      <td>UNKNOWN</td>\n",
       "      <td>UNKNOWN</td>\n",
       "      <td>NaN</td>\n",
       "      <td>UNKNOWN</td>\n",
       "      <td>...</td>\n",
       "      <td>NaN</td>\n",
       "      <td>NaN</td>\n",
       "      <td>NaN</td>\n",
       "      <td>NaN</td>\n",
       "      <td>NaN</td>\n",
       "      <td>NaN</td>\n",
       "      <td>NaN</td>\n",
       "      <td>NaN</td>\n",
       "      <td>NaN</td>\n",
       "      <td>NaN</td>\n",
       "    </tr>\n",
       "    <tr>\n",
       "      <th>26</th>\n",
       "      <td>st_step 76735_0</td>\n",
       "      <td>STAFF MEMBER</td>\n",
       "      <td>Permit SAVED by EMPLOYEE</td>\n",
       "      <td>2017-02-07 16:08:44+01:00</td>\n",
       "      <td>EMPLOYEE</td>\n",
       "      <td>organizational unit 65458</td>\n",
       "      <td>UNKNOWN</td>\n",
       "      <td>UNKNOWN</td>\n",
       "      <td>NaN</td>\n",
       "      <td>UNKNOWN</td>\n",
       "      <td>...</td>\n",
       "      <td>NaN</td>\n",
       "      <td>NaN</td>\n",
       "      <td>NaN</td>\n",
       "      <td>NaN</td>\n",
       "      <td>NaN</td>\n",
       "      <td>NaN</td>\n",
       "      <td>NaN</td>\n",
       "      <td>NaN</td>\n",
       "      <td>NaN</td>\n",
       "      <td>NaN</td>\n",
       "    </tr>\n",
       "    <tr>\n",
       "      <th>144</th>\n",
       "      <td>st_step 76681_0</td>\n",
       "      <td>STAFF MEMBER</td>\n",
       "      <td>Permit SUBMITTED by EMPLOYEE</td>\n",
       "      <td>2017-01-09 11:45:18+01:00</td>\n",
       "      <td>EMPLOYEE</td>\n",
       "      <td>organizational unit 65458</td>\n",
       "      <td>UNKNOWN</td>\n",
       "      <td>UNKNOWN</td>\n",
       "      <td>NaN</td>\n",
       "      <td>UNKNOWN</td>\n",
       "      <td>...</td>\n",
       "      <td>NaN</td>\n",
       "      <td>NaN</td>\n",
       "      <td>NaN</td>\n",
       "      <td>NaN</td>\n",
       "      <td>NaN</td>\n",
       "      <td>NaN</td>\n",
       "      <td>NaN</td>\n",
       "      <td>NaN</td>\n",
       "      <td>NaN</td>\n",
       "      <td>NaN</td>\n",
       "    </tr>\n",
       "    <tr>\n",
       "      <th>145</th>\n",
       "      <td>st_step 76682_0</td>\n",
       "      <td>STAFF MEMBER</td>\n",
       "      <td>Permit FINAL_APPROVED by SUPERVISOR</td>\n",
       "      <td>2017-01-09 11:45:21+01:00</td>\n",
       "      <td>SUPERVISOR</td>\n",
       "      <td>organizational unit 65458</td>\n",
       "      <td>UNKNOWN</td>\n",
       "      <td>UNKNOWN</td>\n",
       "      <td>NaN</td>\n",
       "      <td>UNKNOWN</td>\n",
       "      <td>...</td>\n",
       "      <td>NaN</td>\n",
       "      <td>NaN</td>\n",
       "      <td>NaN</td>\n",
       "      <td>NaN</td>\n",
       "      <td>NaN</td>\n",
       "      <td>NaN</td>\n",
       "      <td>NaN</td>\n",
       "      <td>NaN</td>\n",
       "      <td>NaN</td>\n",
       "      <td>NaN</td>\n",
       "    </tr>\n",
       "  </tbody>\n",
       "</table>\n",
       "<p>5 rows × 175 columns</p>\n",
       "</div>"
      ],
      "text/plain": [
       "                           id  org:resource  \\\n",
       "24   rv_travel permit 76734_6  STAFF MEMBER   \n",
       "25   rv_travel permit 76734_7  STAFF MEMBER   \n",
       "26            st_step 76735_0  STAFF MEMBER   \n",
       "144           st_step 76681_0  STAFF MEMBER   \n",
       "145           st_step 76682_0  STAFF MEMBER   \n",
       "\n",
       "                            concept:name             time:timestamp  \\\n",
       "24                            Start trip  2016-12-12 00:00:00+01:00   \n",
       "25                              End trip  2017-01-02 00:00:00+01:00   \n",
       "26              Permit SAVED by EMPLOYEE  2017-02-07 16:08:44+01:00   \n",
       "144         Permit SUBMITTED by EMPLOYEE  2017-01-09 11:45:18+01:00   \n",
       "145  Permit FINAL_APPROVED by SUPERVISOR  2017-01-09 11:45:21+01:00   \n",
       "\n",
       "       org:role  case:OrganizationalEntity case:ProjectNumber case:TaskNumber  \\\n",
       "24     EMPLOYEE  organizational unit 65458            UNKNOWN         UNKNOWN   \n",
       "25     EMPLOYEE  organizational unit 65458            UNKNOWN         UNKNOWN   \n",
       "26     EMPLOYEE  organizational unit 65458            UNKNOWN         UNKNOWN   \n",
       "144    EMPLOYEE  organizational unit 65458            UNKNOWN         UNKNOWN   \n",
       "145  SUPERVISOR  organizational unit 65458            UNKNOWN         UNKNOWN   \n",
       "\n",
       "    case:dec_id_0 case:ActivityNumber  ...  case:Cost Type_11  \\\n",
       "24            NaN             UNKNOWN  ...                NaN   \n",
       "25            NaN             UNKNOWN  ...                NaN   \n",
       "26            NaN             UNKNOWN  ...                NaN   \n",
       "144           NaN             UNKNOWN  ...                NaN   \n",
       "145           NaN             UNKNOWN  ...                NaN   \n",
       "\n",
       "    case:Cost Type_12 case:Task_5  case:Task_4 case:Task_9 case:Task_8  \\\n",
       "24                NaN         NaN          NaN         NaN         NaN   \n",
       "25                NaN         NaN          NaN         NaN         NaN   \n",
       "26                NaN         NaN          NaN         NaN         NaN   \n",
       "144               NaN         NaN          NaN         NaN         NaN   \n",
       "145               NaN         NaN          NaN         NaN         NaN   \n",
       "\n",
       "    case:Task_7  case:Task_6 gen_dec_id  gen_dec_num  \n",
       "24          NaN          NaN        NaN          NaN  \n",
       "25          NaN          NaN        NaN          NaN  \n",
       "26          NaN          NaN        NaN          NaN  \n",
       "144         NaN          NaN        NaN          NaN  \n",
       "145         NaN          NaN        NaN          NaN  \n",
       "\n",
       "[5 rows x 175 columns]"
      ]
     },
     "execution_count": 33,
     "metadata": {},
     "output_type": "execute_result"
    }
   ],
   "source": [
    "permit_log[permit_log['gen_dec_num'].isna()].head()"
   ]
  },
  {
   "cell_type": "markdown",
   "metadata": {},
   "source": [
    "### aggregation RequestedAmount"
   ]
  },
  {
   "cell_type": "code",
   "execution_count": 34,
   "metadata": {},
   "outputs": [],
   "source": [
    "req_amount_nums = list(permit_log.filter(regex=(\"case:RequestedAmount.*\")).columns)"
   ]
  },
  {
   "cell_type": "code",
   "execution_count": 35,
   "metadata": {},
   "outputs": [],
   "source": [
    "permit_log['gen_req_amount'] = None"
   ]
  },
  {
   "cell_type": "code",
   "execution_count": 36,
   "metadata": {},
   "outputs": [],
   "source": [
    "for column in req_amount_nums:\n",
    "    permit_log['gen_req_amount'] = np.where(permit_log['gen_req_amount'].isna(),\n",
    "                                            permit_log[column],permit_log['gen_req_amount'])  "
   ]
  },
  {
   "cell_type": "markdown",
   "metadata": {},
   "source": [
    "### aggregation Activity"
   ]
  },
  {
   "cell_type": "code",
   "execution_count": 37,
   "metadata": {},
   "outputs": [],
   "source": [
    "activity_list = list(permit_log.filter(regex=(\"case:Activity.*\")).columns)"
   ]
  },
  {
   "cell_type": "code",
   "execution_count": 38,
   "metadata": {},
   "outputs": [],
   "source": [
    "permit_log['gen_activity'] = None"
   ]
  },
  {
   "cell_type": "code",
   "execution_count": 39,
   "metadata": {},
   "outputs": [],
   "source": [
    "for column in activity_list:\n",
    "    permit_log['gen_activity'] = np.where(permit_log['gen_activity'].isna(),\n",
    "                                          permit_log[column],permit_log['gen_activity'])  "
   ]
  },
  {
   "cell_type": "markdown",
   "metadata": {},
   "source": [
    "### aggregation RfpNumber"
   ]
  },
  {
   "cell_type": "code",
   "execution_count": 40,
   "metadata": {},
   "outputs": [],
   "source": [
    "rfpn_list = list(permit_log.filter(regex=(\"case:RfpNumber.*\")).columns)"
   ]
  },
  {
   "cell_type": "code",
   "execution_count": 41,
   "metadata": {},
   "outputs": [],
   "source": [
    "permit_log['gen_rfpn'] = None"
   ]
  },
  {
   "cell_type": "code",
   "execution_count": 42,
   "metadata": {},
   "outputs": [],
   "source": [
    "for column in rfpn_list:\n",
    "    permit_log['gen_rfpn'] = np.where(permit_log['gen_rfpn'].isna(),\n",
    "                                      permit_log[column],permit_log['gen_rfpn'])  "
   ]
  },
  {
   "cell_type": "markdown",
   "metadata": {},
   "source": [
    "### aggregation OrganisationalEntity"
   ]
  },
  {
   "cell_type": "code",
   "execution_count": 43,
   "metadata": {},
   "outputs": [],
   "source": [
    "oe_list = list(permit_log.filter(regex=(\"case:OrganizationalEntity.*\")).columns)"
   ]
  },
  {
   "cell_type": "code",
   "execution_count": 44,
   "metadata": {},
   "outputs": [],
   "source": [
    "permit_log['gen_org_ent'] = None"
   ]
  },
  {
   "cell_type": "code",
   "execution_count": 45,
   "metadata": {},
   "outputs": [],
   "source": [
    "for column in oe_list:\n",
    "    permit_log['gen_org_ent'] = np.where(permit_log['gen_org_ent'].isna(),\n",
    "                                         permit_log[column],permit_log['gen_org_ent'])  "
   ]
  },
  {
   "cell_type": "markdown",
   "metadata": {},
   "source": [
    "### aggregation Rfp_id"
   ]
  },
  {
   "cell_type": "code",
   "execution_count": 46,
   "metadata": {},
   "outputs": [],
   "source": [
    "rfp_ids = list(permit_log.filter(regex=(\"case:Rfp_id.*\")).columns)"
   ]
  },
  {
   "cell_type": "code",
   "execution_count": 47,
   "metadata": {},
   "outputs": [],
   "source": [
    "permit_log['gen_rfp_id'] = None"
   ]
  },
  {
   "cell_type": "code",
   "execution_count": 48,
   "metadata": {},
   "outputs": [],
   "source": [
    "for column in rfp_ids:\n",
    "    permit_log['gen_rfp_id'] = np.where(permit_log['gen_rfp_id'].isna(),\n",
    "                                        permit_log[column],permit_log['gen_rfp_id'])  "
   ]
  },
  {
   "cell_type": "markdown",
   "metadata": {},
   "source": [
    "### aggregation CostType"
   ]
  },
  {
   "cell_type": "code",
   "execution_count": 49,
   "metadata": {},
   "outputs": [],
   "source": [
    "cost_types = list(permit_log.filter(regex=(\"case:Cost Type.*\")).columns)"
   ]
  },
  {
   "cell_type": "code",
   "execution_count": 50,
   "metadata": {},
   "outputs": [],
   "source": [
    "permit_log['gen_cost_type'] = None"
   ]
  },
  {
   "cell_type": "code",
   "execution_count": 51,
   "metadata": {},
   "outputs": [],
   "source": [
    "for column in cost_types:\n",
    "    permit_log['gen_cost_type'] = np.where(permit_log['gen_cost_type'].isna(),\n",
    "                                           permit_log[column],permit_log['gen_cost_type'])  "
   ]
  },
  {
   "cell_type": "markdown",
   "metadata": {},
   "source": [
    "### aggregation Task"
   ]
  },
  {
   "cell_type": "code",
   "execution_count": 52,
   "metadata": {},
   "outputs": [],
   "source": [
    "task_list = list(permit_log.filter(regex=(\"case:Task.*\")).columns)"
   ]
  },
  {
   "cell_type": "code",
   "execution_count": 53,
   "metadata": {},
   "outputs": [],
   "source": [
    "permit_log['gen_tasks'] = None"
   ]
  },
  {
   "cell_type": "code",
   "execution_count": 54,
   "metadata": {},
   "outputs": [],
   "source": [
    "for column in task_list:\n",
    "    permit_log['gen_tasks'] = np.where(permit_log['gen_tasks'].isna(),\n",
    "                                           permit_log[column],permit_log['gen_tasks'])  "
   ]
  },
  {
   "cell_type": "markdown",
   "metadata": {},
   "source": [
    "### aggregation Project"
   ]
  },
  {
   "cell_type": "code",
   "execution_count": 55,
   "metadata": {},
   "outputs": [],
   "source": [
    "project_list = list(permit_log.filter(regex=(\"case:Project.*\")).columns)"
   ]
  },
  {
   "cell_type": "code",
   "execution_count": 56,
   "metadata": {},
   "outputs": [],
   "source": [
    "permit_log['gen_projects'] = None"
   ]
  },
  {
   "cell_type": "code",
   "execution_count": 57,
   "metadata": {},
   "outputs": [],
   "source": [
    "for column in project_list:\n",
    "    permit_log['gen_projects'] = np.where(permit_log['gen_projects'].isna(),\n",
    "                                           permit_log[column],permit_log['gen_projects'])  "
   ]
  },
  {
   "cell_type": "markdown",
   "metadata": {},
   "source": [
    "## Delete all extra columns"
   ]
  },
  {
   "cell_type": "code",
   "execution_count": 58,
   "metadata": {},
   "outputs": [],
   "source": [
    "permit_log = permit_log.drop(\n",
    "    declaration_nums+declaration_columns+req_amount_nums+activity_list+rfpn_list+oe_list+rfp_ids+cost_types+task_list+project_list,\n",
    "    axis = 1)"
   ]
  },
  {
   "cell_type": "code",
   "execution_count": 59,
   "metadata": {
    "scrolled": true
   },
   "outputs": [
    {
     "data": {
      "text/plain": [
       "23"
      ]
     },
     "execution_count": 59,
     "metadata": {},
     "output_type": "execute_result"
    }
   ],
   "source": [
    "len(permit_log.columns)"
   ]
  },
  {
   "cell_type": "code",
   "execution_count": 60,
   "metadata": {},
   "outputs": [
    {
     "name": "stdout",
     "output_type": "stream",
     "text": [
      "id org:resource concept:name time:timestamp org:role case:TotalDeclared case:concept:name case:Overspent case:travel permit number case:id case:RequestedBudget case:BudgetNumber case:OverspentAmount gen_dec_id gen_dec_num gen_req_amount gen_activity gen_rfpn gen_org_ent gen_rfp_id gen_cost_type gen_tasks gen_projects\n"
     ]
    }
   ],
   "source": [
    "print(*permit_log.columns)"
   ]
  },
  {
   "cell_type": "code",
   "execution_count": 61,
   "metadata": {},
   "outputs": [],
   "source": [
    "# Ура, теперь здесь 23 столбца вместо 170 "
   ]
  },
  {
   "cell_type": "code",
   "execution_count": 62,
   "metadata": {
    "scrolled": true
   },
   "outputs": [
    {
     "data": {
      "text/html": [
       "<div>\n",
       "<style scoped>\n",
       "    .dataframe tbody tr th:only-of-type {\n",
       "        vertical-align: middle;\n",
       "    }\n",
       "\n",
       "    .dataframe tbody tr th {\n",
       "        vertical-align: top;\n",
       "    }\n",
       "\n",
       "    .dataframe thead th {\n",
       "        text-align: right;\n",
       "    }\n",
       "</style>\n",
       "<table border=\"1\" class=\"dataframe\">\n",
       "  <thead>\n",
       "    <tr style=\"text-align: right;\">\n",
       "      <th></th>\n",
       "      <th>gen_dec_id</th>\n",
       "      <th>gen_dec_num</th>\n",
       "      <th>gen_req_amount</th>\n",
       "      <th>gen_activity</th>\n",
       "      <th>gen_rfpn</th>\n",
       "      <th>gen_org_ent</th>\n",
       "      <th>gen_rfp_id</th>\n",
       "      <th>gen_cost_type</th>\n",
       "      <th>gen_tasks</th>\n",
       "      <th>gen_projects</th>\n",
       "    </tr>\n",
       "  </thead>\n",
       "  <tbody>\n",
       "    <tr>\n",
       "      <th>0</th>\n",
       "      <td>declaration 76457</td>\n",
       "      <td>declaration number 76458</td>\n",
       "      <td>56</td>\n",
       "      <td>activity 46005</td>\n",
       "      <td>NaN</td>\n",
       "      <td>organizational unit 65458</td>\n",
       "      <td>NaN</td>\n",
       "      <td>NaN</td>\n",
       "      <td>UNKNOWN</td>\n",
       "      <td>UNKNOWN</td>\n",
       "    </tr>\n",
       "    <tr>\n",
       "      <th>1</th>\n",
       "      <td>declaration 76457</td>\n",
       "      <td>declaration number 76458</td>\n",
       "      <td>56</td>\n",
       "      <td>activity 46005</td>\n",
       "      <td>NaN</td>\n",
       "      <td>organizational unit 65458</td>\n",
       "      <td>NaN</td>\n",
       "      <td>NaN</td>\n",
       "      <td>UNKNOWN</td>\n",
       "      <td>UNKNOWN</td>\n",
       "    </tr>\n",
       "    <tr>\n",
       "      <th>2</th>\n",
       "      <td>declaration 76457</td>\n",
       "      <td>declaration number 76458</td>\n",
       "      <td>56</td>\n",
       "      <td>activity 46005</td>\n",
       "      <td>NaN</td>\n",
       "      <td>organizational unit 65458</td>\n",
       "      <td>NaN</td>\n",
       "      <td>NaN</td>\n",
       "      <td>UNKNOWN</td>\n",
       "      <td>UNKNOWN</td>\n",
       "    </tr>\n",
       "    <tr>\n",
       "      <th>3</th>\n",
       "      <td>declaration 76457</td>\n",
       "      <td>declaration number 76458</td>\n",
       "      <td>56</td>\n",
       "      <td>activity 46005</td>\n",
       "      <td>NaN</td>\n",
       "      <td>organizational unit 65458</td>\n",
       "      <td>NaN</td>\n",
       "      <td>NaN</td>\n",
       "      <td>UNKNOWN</td>\n",
       "      <td>UNKNOWN</td>\n",
       "    </tr>\n",
       "    <tr>\n",
       "      <th>4</th>\n",
       "      <td>declaration 76457</td>\n",
       "      <td>declaration number 76458</td>\n",
       "      <td>56</td>\n",
       "      <td>activity 46005</td>\n",
       "      <td>NaN</td>\n",
       "      <td>organizational unit 65458</td>\n",
       "      <td>NaN</td>\n",
       "      <td>NaN</td>\n",
       "      <td>UNKNOWN</td>\n",
       "      <td>UNKNOWN</td>\n",
       "    </tr>\n",
       "    <tr>\n",
       "      <th>...</th>\n",
       "      <td>...</td>\n",
       "      <td>...</td>\n",
       "      <td>...</td>\n",
       "      <td>...</td>\n",
       "      <td>...</td>\n",
       "      <td>...</td>\n",
       "      <td>...</td>\n",
       "      <td>...</td>\n",
       "      <td>...</td>\n",
       "      <td>...</td>\n",
       "    </tr>\n",
       "    <tr>\n",
       "      <th>86576</th>\n",
       "      <td>NaN</td>\n",
       "      <td>NaN</td>\n",
       "      <td>NaN</td>\n",
       "      <td>UNKNOWN</td>\n",
       "      <td>NaN</td>\n",
       "      <td>organizational unit 65464</td>\n",
       "      <td>NaN</td>\n",
       "      <td>NaN</td>\n",
       "      <td>task 427</td>\n",
       "      <td>project 13110</td>\n",
       "    </tr>\n",
       "    <tr>\n",
       "      <th>86577</th>\n",
       "      <td>NaN</td>\n",
       "      <td>NaN</td>\n",
       "      <td>NaN</td>\n",
       "      <td>UNKNOWN</td>\n",
       "      <td>NaN</td>\n",
       "      <td>organizational unit 65464</td>\n",
       "      <td>NaN</td>\n",
       "      <td>NaN</td>\n",
       "      <td>task 427</td>\n",
       "      <td>project 13110</td>\n",
       "    </tr>\n",
       "    <tr>\n",
       "      <th>86578</th>\n",
       "      <td>NaN</td>\n",
       "      <td>NaN</td>\n",
       "      <td>NaN</td>\n",
       "      <td>UNKNOWN</td>\n",
       "      <td>NaN</td>\n",
       "      <td>organizational unit 65464</td>\n",
       "      <td>NaN</td>\n",
       "      <td>NaN</td>\n",
       "      <td>task 427</td>\n",
       "      <td>project 13110</td>\n",
       "    </tr>\n",
       "    <tr>\n",
       "      <th>86579</th>\n",
       "      <td>NaN</td>\n",
       "      <td>NaN</td>\n",
       "      <td>NaN</td>\n",
       "      <td>UNKNOWN</td>\n",
       "      <td>NaN</td>\n",
       "      <td>organizational unit 65464</td>\n",
       "      <td>NaN</td>\n",
       "      <td>NaN</td>\n",
       "      <td>task 427</td>\n",
       "      <td>project 13110</td>\n",
       "    </tr>\n",
       "    <tr>\n",
       "      <th>86580</th>\n",
       "      <td>NaN</td>\n",
       "      <td>NaN</td>\n",
       "      <td>NaN</td>\n",
       "      <td>UNKNOWN</td>\n",
       "      <td>NaN</td>\n",
       "      <td>organizational unit 65464</td>\n",
       "      <td>NaN</td>\n",
       "      <td>NaN</td>\n",
       "      <td>task 427</td>\n",
       "      <td>project 13110</td>\n",
       "    </tr>\n",
       "  </tbody>\n",
       "</table>\n",
       "<p>86581 rows × 10 columns</p>\n",
       "</div>"
      ],
      "text/plain": [
       "              gen_dec_id               gen_dec_num gen_req_amount  \\\n",
       "0      declaration 76457  declaration number 76458             56   \n",
       "1      declaration 76457  declaration number 76458             56   \n",
       "2      declaration 76457  declaration number 76458             56   \n",
       "3      declaration 76457  declaration number 76458             56   \n",
       "4      declaration 76457  declaration number 76458             56   \n",
       "...                  ...                       ...            ...   \n",
       "86576                NaN                       NaN            NaN   \n",
       "86577                NaN                       NaN            NaN   \n",
       "86578                NaN                       NaN            NaN   \n",
       "86579                NaN                       NaN            NaN   \n",
       "86580                NaN                       NaN            NaN   \n",
       "\n",
       "         gen_activity gen_rfpn                gen_org_ent gen_rfp_id  \\\n",
       "0      activity 46005      NaN  organizational unit 65458        NaN   \n",
       "1      activity 46005      NaN  organizational unit 65458        NaN   \n",
       "2      activity 46005      NaN  organizational unit 65458        NaN   \n",
       "3      activity 46005      NaN  organizational unit 65458        NaN   \n",
       "4      activity 46005      NaN  organizational unit 65458        NaN   \n",
       "...               ...      ...                        ...        ...   \n",
       "86576         UNKNOWN      NaN  organizational unit 65464        NaN   \n",
       "86577         UNKNOWN      NaN  organizational unit 65464        NaN   \n",
       "86578         UNKNOWN      NaN  organizational unit 65464        NaN   \n",
       "86579         UNKNOWN      NaN  organizational unit 65464        NaN   \n",
       "86580         UNKNOWN      NaN  organizational unit 65464        NaN   \n",
       "\n",
       "      gen_cost_type gen_tasks   gen_projects  \n",
       "0               NaN   UNKNOWN        UNKNOWN  \n",
       "1               NaN   UNKNOWN        UNKNOWN  \n",
       "2               NaN   UNKNOWN        UNKNOWN  \n",
       "3               NaN   UNKNOWN        UNKNOWN  \n",
       "4               NaN   UNKNOWN        UNKNOWN  \n",
       "...             ...       ...            ...  \n",
       "86576           NaN  task 427  project 13110  \n",
       "86577           NaN  task 427  project 13110  \n",
       "86578           NaN  task 427  project 13110  \n",
       "86579           NaN  task 427  project 13110  \n",
       "86580           NaN  task 427  project 13110  \n",
       "\n",
       "[86581 rows x 10 columns]"
      ]
     },
     "execution_count": 62,
     "metadata": {},
     "output_type": "execute_result"
    }
   ],
   "source": [
    "# с cost_type нужно быть аккуратнее, потому что там только нолики - бинарное кодирование (?)\n",
    "permit_log[['gen_dec_id', 'gen_dec_num', 'gen_req_amount', 'gen_activity', 'gen_rfpn', 'gen_org_ent',\n",
    "           'gen_rfp_id', 'gen_cost_type', 'gen_tasks', 'gen_projects']]"
   ]
  },
  {
   "cell_type": "raw",
   "metadata": {},
   "source": [
    "permit_log['gen_dec_id'] = permit_log['gen_dec_id'].apply(lambda x: x.split()[-1] if pd.isnull(x)!=True else np.nan)"
   ]
  },
  {
   "cell_type": "raw",
   "metadata": {},
   "source": [
    "permit_log['gen_dec_num'] = permit_log['gen_dec_num'].apply(lambda x: x.split()[-1] if pd.isnull(x)!=True else np.nan)"
   ]
  },
  {
   "cell_type": "raw",
   "metadata": {},
   "source": [
    "permit_log['gen_activity'] = permit_log['gen_activity'].apply(lambda x: x.split()[-1] if pd.isnull(x)!=True else np.nan)"
   ]
  },
  {
   "cell_type": "raw",
   "metadata": {},
   "source": [
    "permit_log['gen_rfpn'] = permit_log['gen_rfpn'].apply(lambda x: x.split()[-1] if pd.isnull(x)!=True else np.nan)"
   ]
  },
  {
   "cell_type": "raw",
   "metadata": {},
   "source": [
    "permit_log['gen_org_ent'] = permit_log['gen_org_ent'].apply(lambda x: x.split()[-1] if pd.isnull(x)!=True else np.nan)"
   ]
  },
  {
   "cell_type": "raw",
   "metadata": {},
   "source": [
    "permit_log['gen_rfp_id'] = permit_log['gen_rfp_id'].apply(lambda x: x.split()[-1] if pd.isnull(x)!=True else np.nan)"
   ]
  },
  {
   "cell_type": "raw",
   "metadata": {},
   "source": [
    "permit_log['gen_tasks'] = permit_log['gen_tasks'].apply(lambda x: x.split()[-1] if pd.isnull(x)!=True else np.nan)"
   ]
  },
  {
   "cell_type": "raw",
   "metadata": {},
   "source": [
    "permit_log['gen_projects'] = permit_log['gen_projects'].apply(lambda x: x.split()[-1] if pd.isnull(x)!=True else np.nan)"
   ]
  },
  {
   "cell_type": "code",
   "execution_count": 63,
   "metadata": {},
   "outputs": [
    {
     "data": {
      "text/plain": [
       "Index(['id', 'org:resource', 'concept:name', 'time:timestamp', 'org:role',\n",
       "       'case:TotalDeclared', 'case:concept:name', 'case:Overspent',\n",
       "       'case:travel permit number', 'case:id', 'case:RequestedBudget',\n",
       "       'case:BudgetNumber', 'case:OverspentAmount', 'gen_dec_id',\n",
       "       'gen_dec_num', 'gen_req_amount', 'gen_activity', 'gen_rfpn',\n",
       "       'gen_org_ent', 'gen_rfp_id', 'gen_cost_type', 'gen_tasks',\n",
       "       'gen_projects'],\n",
       "      dtype='object')"
      ]
     },
     "execution_count": 63,
     "metadata": {},
     "output_type": "execute_result"
    }
   ],
   "source": [
    "# человеческий permit_log\n",
    "permit_log.columns"
   ]
  },
  {
   "cell_type": "code",
   "execution_count": 64,
   "metadata": {},
   "outputs": [],
   "source": [
    "# переименовала из временных названий в общие\n",
    "permit_log.columns = ['id', 'org:resource', 'concept:name', 'time:timestamp', 'org:role',\n",
    "       'case:TotalDeclared', 'case:concept:name', 'case:Overspent',\n",
    "       'case:travel permit number', 'case:id', 'case:RequestedBudget',\n",
    "       'case:BudgetNumber', 'case:OverspentAmount','case:dec_id',\n",
    "       'case:DeclarationNumber','case:RequestedAmount','case:Activity',\n",
    "       'case:RfpNumber','case:OrganizationalEntity','case:Rfp_id','case:CostType',\n",
    "       'case:Task','case:Project']"
   ]
  },
  {
   "cell_type": "code",
   "execution_count": 65,
   "metadata": {},
   "outputs": [
    {
     "data": {
      "text/plain": [
       "0        NaN\n",
       "1        NaN\n",
       "2        NaN\n",
       "3        NaN\n",
       "4        NaN\n",
       "        ... \n",
       "86576    NaN\n",
       "86577    NaN\n",
       "86578    NaN\n",
       "86579    NaN\n",
       "86580    NaN\n",
       "Name: case:RfpNumber, Length: 86581, dtype: object"
      ]
     },
     "execution_count": 65,
     "metadata": {},
     "output_type": "execute_result"
    }
   ],
   "source": [
    "permit_log['case:RfpNumber']"
   ]
  },
  {
   "cell_type": "code",
   "execution_count": 66,
   "metadata": {},
   "outputs": [],
   "source": [
    "permit_log.to_csv('compact_PermitLog.csv')"
   ]
  }
 ],
 "metadata": {
  "kernelspec": {
   "display_name": "Python 3",
   "language": "python",
   "name": "python3"
  },
  "language_info": {
   "codemirror_mode": {
    "name": "ipython",
    "version": 3
   },
   "file_extension": ".py",
   "mimetype": "text/x-python",
   "name": "python",
   "nbconvert_exporter": "python",
   "pygments_lexer": "ipython3",
   "version": "3.7.6"
  }
 },
 "nbformat": 4,
 "nbformat_minor": 4
}
